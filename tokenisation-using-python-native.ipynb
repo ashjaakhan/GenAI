{
 "cells": [
  {
   "cell_type": "markdown",
   "id": "74c4c83b-18c7-41fb-95c2-bf5e36a0d9ca",
   "metadata": {},
   "source": [
    "### Tokenisation: without using NLP packages(string,regex)"
   ]
  },
  {
   "cell_type": "code",
   "execution_count": 5,
   "id": "33c7ad4a-415a-4492-8185-b48d842a4a7e",
   "metadata": {},
   "outputs": [],
   "source": [
    "import string as s"
   ]
  },
  {
   "cell_type": "code",
   "execution_count": 2,
   "id": "b4cd83a4-9dbc-4917-a64d-5e592e912175",
   "metadata": {},
   "outputs": [],
   "source": [
    "import re"
   ]
  },
  {
   "cell_type": "code",
   "execution_count": 3,
   "id": "bc60a5a9-dc47-486d-942c-21a6a0b16bbf",
   "metadata": {},
   "outputs": [],
   "source": [
    "text='''My name is Ashjaa.I love to play football.'''\n"
   ]
  },
  {
   "cell_type": "code",
   "execution_count": 4,
   "id": "c35fe6ce-5836-4aac-abd4-01b3fb28ec81",
   "metadata": {},
   "outputs": [
    {
     "name": "stdout",
     "output_type": "stream",
     "text": [
      "My name is Ashjaa.I love to play football.\n"
     ]
    }
   ],
   "source": [
    "print(text)"
   ]
  },
  {
   "cell_type": "code",
   "execution_count": 6,
   "id": "e3438e21-72c0-457d-ad16-6838736b0de6",
   "metadata": {},
   "outputs": [
    {
     "name": "stdout",
     "output_type": "stream",
     "text": [
      "!\"#$%&'()*+,-./:;<=>?@[\\]^_`{|}~\n"
     ]
    }
   ],
   "source": [
    "# punctuation set\n",
    "print(s.punctuation)"
   ]
  },
  {
   "cell_type": "code",
   "execution_count": 19,
   "id": "fd48e9e6-dc3c-47a4-8306-b2cdf4dc44a9",
   "metadata": {},
   "outputs": [
    {
     "name": "stdout",
     "output_type": "stream",
     "text": [
      "['.', '.']\n"
     ]
    }
   ],
   "source": [
    "puncts=[]\n",
    "for i in text:\n",
    "    if i in s.punctuation:\n",
    "        puncts.append(i)\n",
    "print(puncts)"
   ]
  },
  {
   "cell_type": "code",
   "execution_count": 20,
   "id": "3d9b0aaa-584b-42b4-8b56-8772172c464d",
   "metadata": {},
   "outputs": [
    {
     "name": "stdout",
     "output_type": "stream",
     "text": [
      "length of punctuation: 2\n"
     ]
    }
   ],
   "source": [
    "print(\"length of punctuation:\",len(puncts))"
   ]
  },
  {
   "cell_type": "code",
   "execution_count": 16,
   "id": "3f62f8e3-9c32-48b1-9b92-42a72f4219be",
   "metadata": {},
   "outputs": [],
   "source": [
    "# sentences from corpus"
   ]
  },
  {
   "cell_type": "code",
   "execution_count": 17,
   "id": "1f2287a0-4584-43a9-aa09-4092088e013b",
   "metadata": {},
   "outputs": [
    {
     "name": "stdout",
     "output_type": "stream",
     "text": [
      "['My name is Ashjaa', 'I love to play football', '']\n"
     ]
    }
   ],
   "source": [
    "sentences=re.split(r\"[.,!?]\\s*\",text.strip())\n",
    "print(sentences)"
   ]
  },
  {
   "cell_type": "code",
   "execution_count": 21,
   "id": "71f797b5-8dc9-4533-a693-02e54162fc90",
   "metadata": {},
   "outputs": [
    {
     "name": "stdout",
     "output_type": "stream",
     "text": [
      "length of sentences: 3\n"
     ]
    }
   ],
   "source": [
    "print(\"length of sentences:\",len(sentences))"
   ]
  },
  {
   "cell_type": "code",
   "execution_count": 22,
   "id": "d2893724-1bc7-4811-a1ce-d6d4fc8a4f58",
   "metadata": {},
   "outputs": [
    {
     "name": "stdout",
     "output_type": "stream",
     "text": [
      "type of sentences: <class 'list'>\n"
     ]
    }
   ],
   "source": [
    "print(\"type of sentences:\",type(sentences))"
   ]
  },
  {
   "cell_type": "code",
   "execution_count": 23,
   "id": "bc314dd6-e7a5-4d5b-ac4e-5fdadb32b16c",
   "metadata": {},
   "outputs": [
    {
     "name": "stdout",
     "output_type": "stream",
     "text": [
      "type of sentence: <class 'str'>\n"
     ]
    }
   ],
   "source": [
    "print(\"type of sentence:\",type(sentences[0]))"
   ]
  },
  {
   "cell_type": "code",
   "execution_count": 24,
   "id": "16f90e55-15ea-4774-a8cd-98db7fbdab10",
   "metadata": {},
   "outputs": [],
   "source": [
    "from collections.abc import Iterable"
   ]
  },
  {
   "cell_type": "code",
   "execution_count": 25,
   "id": "124c41b8-ca79-4b9e-9490-ae0ae4182538",
   "metadata": {},
   "outputs": [
    {
     "name": "stdout",
     "output_type": "stream",
     "text": [
      "is instrance of: True\n"
     ]
    }
   ],
   "source": [
    "print(\"is instrance of:\",isinstance(sentences,list))"
   ]
  },
  {
   "cell_type": "code",
   "execution_count": 27,
   "id": "05f173d7-db31-431f-ad65-a2963a7755f1",
   "metadata": {},
   "outputs": [
    {
     "name": "stdout",
     "output_type": "stream",
     "text": [
      "is instrance of: True\n"
     ]
    }
   ],
   "source": [
    "print(\"is instrance of:\",isinstance(sentences[0],str))"
   ]
  },
  {
   "cell_type": "code",
   "execution_count": 28,
   "id": "03c62128-c3dc-4f51-b9e3-7a68b065c466",
   "metadata": {},
   "outputs": [
    {
     "name": "stdout",
     "output_type": "stream",
     "text": [
      " is iterable: True\n"
     ]
    }
   ],
   "source": [
    "print(\" is iterable:\",isinstance(sentences,Iterable))"
   ]
  },
  {
   "cell_type": "code",
   "execution_count": 29,
   "id": "c09059d6-ba66-43fb-8a2a-ad18bc39930b",
   "metadata": {},
   "outputs": [
    {
     "name": "stdout",
     "output_type": "stream",
     "text": [
      " is iterable: True\n"
     ]
    }
   ],
   "source": [
    "print(\" is iterable:\",isinstance(sentences[0],Iterable))"
   ]
  },
  {
   "cell_type": "code",
   "execution_count": 31,
   "id": "de965ee4-d116-4f09-a4e0-10f7d2e9e9d9",
   "metadata": {},
   "outputs": [
    {
     "name": "stdout",
     "output_type": "stream",
     "text": [
      "each sentence: ['My name is Ashjaa', 'I love to play football', '']\n"
     ]
    }
   ],
   "source": [
    "sentence =[s for s in sentences if sentences]\n",
    "print(\"each sentence:\",sentence)"
   ]
  },
  {
   "cell_type": "markdown",
   "id": "da853007-bde2-4d26-aaeb-cac634e7fc79",
   "metadata": {},
   "source": [
    "# conversion of words:-"
   ]
  },
  {
   "cell_type": "code",
   "execution_count": 34,
   "id": "c928bd7b-4ef2-4db6-a21f-194b6edbdedf",
   "metadata": {},
   "outputs": [
    {
     "name": "stdout",
     "output_type": "stream",
     "text": [
      "My name is Ashjaa I love to play football \n"
     ]
    }
   ],
   "source": [
    "cleaned_text=re.sub(r\"[^\\w\\s]\",\" \",text) \n",
    "print(cleaned_text)"
   ]
  },
  {
   "cell_type": "code",
   "execution_count": 35,
   "id": "5f9409d9-e310-4bc8-a511-d97f6a39d83a",
   "metadata": {},
   "outputs": [
    {
     "name": "stdout",
     "output_type": "stream",
     "text": [
      "['My', 'name', 'is', 'Ashjaa', 'I', 'love', 'to', 'play', 'football']\n"
     ]
    }
   ],
   "source": [
    "words= cleaned_text.split()\n",
    "print(words)"
   ]
  },
  {
   "cell_type": "code",
   "execution_count": 36,
   "id": "cd8297b7-1f3d-40bb-999b-5b0e4c6262d8",
   "metadata": {},
   "outputs": [
    {
     "name": "stdout",
     "output_type": "stream",
     "text": [
      "length of word: 9\n"
     ]
    }
   ],
   "source": [
    "print(\"length of word:\",len(words))"
   ]
  },
  {
   "cell_type": "code",
   "execution_count": 37,
   "id": "bb0e8368-95d5-4ccf-9aac-56f6107cfd06",
   "metadata": {},
   "outputs": [
    {
     "name": "stdout",
     "output_type": "stream",
     "text": [
      "type of word: <class 'list'>\n"
     ]
    }
   ],
   "source": [
    "print(\"type of word:\",type(words))"
   ]
  },
  {
   "cell_type": "code",
   "execution_count": 39,
   "id": "8f9b181a-70f2-4d9a-84d9-7824a82d4c69",
   "metadata": {},
   "outputs": [
    {
     "name": "stdout",
     "output_type": "stream",
     "text": [
      "is instance of: True\n"
     ]
    }
   ],
   "source": [
    "print(\"is instance of:\",isinstance(words,list))"
   ]
  },
  {
   "cell_type": "code",
   "execution_count": 40,
   "id": "3b920d87-6dae-43b6-8455-727112e9f894",
   "metadata": {},
   "outputs": [
    {
     "name": "stdout",
     "output_type": "stream",
     "text": [
      "is iterable: True\n"
     ]
    }
   ],
   "source": [
    "print(\"is iterable:\",isinstance(words,Iterable))"
   ]
  },
  {
   "cell_type": "code",
   "execution_count": 43,
   "id": "141f22c5-21b3-4959-94cf-4eeee0fb089e",
   "metadata": {},
   "outputs": [
    {
     "name": "stdout",
     "output_type": "stream",
     "text": [
      "type of word: <class 'str'>\n"
     ]
    }
   ],
   "source": [
    "# checking instance and iterable property of word eith the help of random slection order to prevent any error:floor(len/2))\n",
    "import random as r\n",
    "import math as m\n",
    "mn=0\n",
    "mx=m.floor(len(words)/2)\n",
    "print(\"type of word:\",type(words[r.randint(mn,mx)]))"
   ]
  },
  {
   "cell_type": "code",
   "execution_count": 46,
   "id": "75b6e0d8-50ea-4951-abb1-bc693c981c77",
   "metadata": {},
   "outputs": [],
   "source": [
    "# convert each word into same case(upper or lower)as python is case senesitive"
   ]
  },
  {
   "cell_type": "code",
   "execution_count": 48,
   "id": "c808004d-b58e-4402-8819-84d91456e75d",
   "metadata": {},
   "outputs": [
    {
     "name": "stdout",
     "output_type": "stream",
     "text": [
      "['my', 'name', 'is', 'ashjaa', 'i', 'love', 'to', 'play', 'football']\n"
     ]
    }
   ],
   "source": [
    "lower_case_words=[word.lower() for word in words if words]\n",
    "print(lower_case_words)"
   ]
  },
  {
   "cell_type": "code",
   "execution_count": 51,
   "id": "b39b1225-efb3-4fca-9b91-ad18e0b45403",
   "metadata": {},
   "outputs": [
    {
     "name": "stdout",
     "output_type": "stream",
     "text": [
      "unique wrods: {'is', 'i', 'to', 'name', 'love', 'football', 'my', 'ashjaa', 'play'}\n"
     ]
    }
   ],
   "source": [
    "vocabs=set(lower_case_words)\n",
    "print(\"unique wrods:\",vocabs)"
   ]
  },
  {
   "cell_type": "code",
   "execution_count": 52,
   "id": "d65e8283-e776-4d6d-ab76-6f9ade497702",
   "metadata": {},
   "outputs": [
    {
     "name": "stdout",
     "output_type": "stream",
     "text": [
      "length of unique words: 9\n"
     ]
    }
   ],
   "source": [
    "print(\"length of unique words:\",len(vocabs))"
   ]
  },
  {
   "cell_type": "code",
   "execution_count": null,
   "id": "f6910999-4ef4-4658-b82d-c15aacd9fc53",
   "metadata": {},
   "outputs": [],
   "source": []
  }
 ],
 "metadata": {
  "kernelspec": {
   "display_name": "Python 3 (ipykernel)",
   "language": "python",
   "name": "python3"
  },
  "language_info": {
   "codemirror_mode": {
    "name": "ipython",
    "version": 3
   },
   "file_extension": ".py",
   "mimetype": "text/x-python",
   "name": "python",
   "nbconvert_exporter": "python",
   "pygments_lexer": "ipython3",
   "version": "3.13.3"
  }
 },
 "nbformat": 4,
 "nbformat_minor": 5
}
