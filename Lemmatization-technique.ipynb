{
 "cells": [
  {
   "cell_type": "markdown",
   "id": "c3aa70eb-94d2-4e95-a9ca-a364fd8eef2c",
   "metadata": {},
   "source": [
    "### lemmatization using NLTK"
   ]
  },
  {
   "cell_type": "code",
   "execution_count": 54,
   "id": "1b32d630-158b-4184-952d-e860215e1a3a",
   "metadata": {},
   "outputs": [],
   "source": [
    "import nltk"
   ]
  },
  {
   "cell_type": "code",
   "execution_count": 55,
   "id": "785432e7-50f8-463d-9b40-7348aa38e1d4",
   "metadata": {},
   "outputs": [
    {
     "name": "stderr",
     "output_type": "stream",
     "text": [
      "[nltk_data] Downloading package punkt to C:\\Users\\Mohd Ashjaa\n",
      "[nltk_data]     Khan\\AppData\\Roaming\\nltk_data...\n",
      "[nltk_data]   Package punkt is already up-to-date!\n"
     ]
    },
    {
     "data": {
      "text/plain": [
       "True"
      ]
     },
     "execution_count": 55,
     "metadata": {},
     "output_type": "execute_result"
    }
   ],
   "source": [
    "nltk.download(\"punkt\")"
   ]
  },
  {
   "cell_type": "code",
   "execution_count": 56,
   "id": "cc9ec193-5fe0-4412-99e7-ac183783e7c6",
   "metadata": {},
   "outputs": [],
   "source": [
    "from nltk.stem import WordNetLemmatizer #it contains wordnet so download  wordnet"
   ]
  },
  {
   "cell_type": "code",
   "execution_count": 57,
   "id": "0bd05d69-55c1-472d-a878-0062d2964b09",
   "metadata": {},
   "outputs": [
    {
     "name": "stderr",
     "output_type": "stream",
     "text": [
      "[nltk_data] Downloading package wordnet to C:\\Users\\Mohd Ashjaa\n",
      "[nltk_data]     Khan\\AppData\\Roaming\\nltk_data...\n",
      "[nltk_data]   Package wordnet is already up-to-date!\n"
     ]
    },
    {
     "data": {
      "text/plain": [
       "True"
      ]
     },
     "execution_count": 57,
     "metadata": {},
     "output_type": "execute_result"
    }
   ],
   "source": [
    "nltk.download(\"wordnet\")#simple dictionary"
   ]
  },
  {
   "cell_type": "code",
   "execution_count": 58,
   "id": "2e643450-9f89-448f-bcd0-4d6e976eb54c",
   "metadata": {},
   "outputs": [
    {
     "name": "stderr",
     "output_type": "stream",
     "text": [
      "[nltk_data] Downloading package omw-1.4 to C:\\Users\\Mohd Ashjaa\n",
      "[nltk_data]     Khan\\AppData\\Roaming\\nltk_data...\n",
      "[nltk_data]   Package omw-1.4 is already up-to-date!\n"
     ]
    },
    {
     "data": {
      "text/plain": [
       "True"
      ]
     },
     "execution_count": 58,
     "metadata": {},
     "output_type": "execute_result"
    }
   ],
   "source": [
    "nltk.download(\"omw-1.4\") #huge /extended dictionary"
   ]
  },
  {
   "cell_type": "code",
   "execution_count": 59,
   "id": "d7357745-01d4-4548-a3bd-73652ff99181",
   "metadata": {},
   "outputs": [],
   "source": [
    "lemmatizer=WordNetLemmatizer()"
   ]
  },
  {
   "cell_type": "code",
   "execution_count": 60,
   "id": "c80c3ae0-328f-49b4-acc4-6098280c6dfa",
   "metadata": {},
   "outputs": [],
   "source": [
    "words=[\"cats\",\"dogs\",\"better\",\"running\",\"congrats\",\"congratulations\",\"happily\",\"played\",\"ate\",\"studies\",\"geese\"]"
   ]
  },
  {
   "cell_type": "code",
   "execution_count": 61,
   "id": "9ea965de-502b-4440-81d0-a2e33d26aa3a",
   "metadata": {},
   "outputs": [
    {
     "name": "stdout",
     "output_type": "stream",
     "text": [
      "words: ['cats', 'dogs', 'better', 'running', 'congrats', 'congratulations', 'happily', 'played', 'ate', 'studies', 'geese']\n"
     ]
    }
   ],
   "source": [
    "print(\"words:\",words)"
   ]
  },
  {
   "cell_type": "code",
   "execution_count": 62,
   "id": "5e3966bc-28e7-45f7-ba21-e3a0b4191b84",
   "metadata": {},
   "outputs": [],
   "source": [
    "lemm_words=[lemmatizer.lemmatize(word.lower()) for word in words]"
   ]
  },
  {
   "cell_type": "code",
   "execution_count": 63,
   "id": "f3d4d474-ad74-429c-81a0-ac6179876471",
   "metadata": {},
   "outputs": [
    {
     "name": "stdout",
     "output_type": "stream",
     "text": [
      "lemmatized words: ['cat', 'dog', 'better', 'running', 'congrats', 'congratulation', 'happily', 'played', 'ate', 'study', 'goose']\n"
     ]
    }
   ],
   "source": [
    "print(\"lemmatized words:\",lemm_words)"
   ]
  },
  {
   "cell_type": "markdown",
   "id": "ff7990ca-1b54-4f2c-84cc-00f44ed1c19e",
   "metadata": {},
   "source": [
    "### how to perform post tagging(part of speech in lemmatization)"
   ]
  },
  {
   "cell_type": "code",
   "execution_count": 64,
   "id": "1c7f98b4-9843-4a27-994a-50350d072058",
   "metadata": {},
   "outputs": [],
   "source": [
    "from nltk.corpus import wordnet"
   ]
  },
  {
   "cell_type": "code",
   "execution_count": 65,
   "id": "5f71288f-bdcc-4fbe-8877-b414154f30de",
   "metadata": {},
   "outputs": [],
   "source": [
    "from nltk import pos_tag,word_tokenize"
   ]
  },
  {
   "cell_type": "code",
   "execution_count": 66,
   "id": "3116e1a1-2805-4d1b-bf2c-53154c78cc53",
   "metadata": {},
   "outputs": [
    {
     "name": "stderr",
     "output_type": "stream",
     "text": [
      "[nltk_data] Downloading package punkt to C:\\Users\\Mohd Ashjaa\n",
      "[nltk_data]     Khan\\AppData\\Roaming\\nltk_data...\n",
      "[nltk_data]   Package punkt is already up-to-date!\n"
     ]
    },
    {
     "data": {
      "text/plain": [
       "True"
      ]
     },
     "execution_count": 66,
     "metadata": {},
     "output_type": "execute_result"
    }
   ],
   "source": [
    "nltk.download(\"punkt\")"
   ]
  },
  {
   "cell_type": "code",
   "execution_count": 75,
   "id": "f6a8dfd9-e262-4f62-9d00-8faa00ad11f1",
   "metadata": {},
   "outputs": [],
   "source": [
    "def word_tagging(word_tag):\n",
    "    if word_tag.startswith(\"J\"):\n",
    "        return wordnet.ADJ\n",
    "    elif word_tag.startswith(\"V\"):\n",
    "        return wordnet.VERB\n",
    "    elif word_tag.startswith(\"R\"):\n",
    "        return wordnet.ADV\n",
    "    elif word_tag.startswith(\"N\"):\n",
    "        return wordnet.NOUN\n",
    "    else: \n",
    "        return wordnet.NOUN"
   ]
  },
  {
   "cell_type": "code",
   "execution_count": 79,
   "id": "8c99fa21-0eaa-4f7a-ad8b-e9f3f9134b3e",
   "metadata": {},
   "outputs": [
    {
     "name": "stdout",
     "output_type": "stream",
     "text": [
      "corpus: The Stripped Bats are hanging in their feet of the better view.\n"
     ]
    }
   ],
   "source": [
    "corpus=\"\"\"The Stripped Bats are hanging in their feet of the better view.\"\"\"\n",
    "print(\"corpus:\",corpus)"
   ]
  },
  {
   "cell_type": "code",
   "execution_count": 80,
   "id": "f4d55ffd-1785-4b0a-ae6e-dcfde799dcc2",
   "metadata": {},
   "outputs": [
    {
     "name": "stdout",
     "output_type": "stream",
     "text": [
      "word tokens: ['The', 'Stripped', 'Bats', 'are', 'hanging', 'in', 'their', 'feet', 'of', 'the', 'better', 'view', '.']\n"
     ]
    }
   ],
   "source": [
    "tokens=word_tokenize(corpus)\n",
    "print(\"word tokens:\",tokens)"
   ]
  },
  {
   "cell_type": "code",
   "execution_count": 81,
   "id": "7ddb59e9-45c2-469b-a246-27cc152de7c1",
   "metadata": {},
   "outputs": [
    {
     "name": "stderr",
     "output_type": "stream",
     "text": [
      "[nltk_data] Downloading package averaged_perceptron_tagger_eng to\n",
      "[nltk_data]     C:\\Users\\Mohd Ashjaa Khan\\AppData\\Roaming\\nltk_data...\n",
      "[nltk_data]   Package averaged_perceptron_tagger_eng is already up-to-\n",
      "[nltk_data]       date!\n"
     ]
    },
    {
     "data": {
      "text/plain": [
       "True"
      ]
     },
     "execution_count": 81,
     "metadata": {},
     "output_type": "execute_result"
    }
   ],
   "source": [
    "nltk.download('averaged_perceptron_tagger_eng')\n"
   ]
  },
  {
   "cell_type": "code",
   "execution_count": 82,
   "id": "cfc52dea-2de0-4d03-8a87-58960967eff1",
   "metadata": {},
   "outputs": [
    {
     "name": "stdout",
     "output_type": "stream",
     "text": [
      "tagged words: [('The', 'DT'), ('Stripped', 'NNP'), ('Bats', 'NNP'), ('are', 'VBP'), ('hanging', 'VBG'), ('in', 'IN'), ('their', 'PRP$'), ('feet', 'NNS'), ('of', 'IN'), ('the', 'DT'), ('better', 'JJR'), ('view', 'NN'), ('.', '.')]\n"
     ]
    }
   ],
   "source": [
    "tagging=pos_tag(tokens)\n",
    "print(\"tagged words:\",tagging)"
   ]
  },
  {
   "cell_type": "code",
   "execution_count": 83,
   "id": "2b528c9f-0688-4029-a1f9-cd41515b4802",
   "metadata": {},
   "outputs": [],
   "source": [
    "lemmatized= [lemmatizer.lemmatize(word,word_tagging(tag)) for word,tag in tagging]"
   ]
  },
  {
   "cell_type": "code",
   "execution_count": 84,
   "id": "074bf910-f9d5-440e-b391-862000664c28",
   "metadata": {},
   "outputs": [
    {
     "name": "stdout",
     "output_type": "stream",
     "text": [
      "lemmatized word: ['The', 'Stripped', 'Bats', 'be', 'hang', 'in', 'their', 'foot', 'of', 'the', 'good', 'view', '.']\n"
     ]
    }
   ],
   "source": [
    "print(\"lemmatized word:\",lemmatized)"
   ]
  },
  {
   "cell_type": "code",
   "execution_count": null,
   "id": "18740b83-571d-459f-ade2-dbcd094d1b96",
   "metadata": {},
   "outputs": [],
   "source": []
  },
  {
   "cell_type": "code",
   "execution_count": null,
   "id": "84054ecd-49e4-4ce6-b792-586792fc911b",
   "metadata": {},
   "outputs": [],
   "source": []
  }
 ],
 "metadata": {
  "kernelspec": {
   "display_name": "Python 3 (ipykernel)",
   "language": "python",
   "name": "python3"
  },
  "language_info": {
   "codemirror_mode": {
    "name": "ipython",
    "version": 3
   },
   "file_extension": ".py",
   "mimetype": "text/x-python",
   "name": "python",
   "nbconvert_exporter": "python",
   "pygments_lexer": "ipython3",
   "version": "3.13.3"
  }
 },
 "nbformat": 4,
 "nbformat_minor": 5
}
