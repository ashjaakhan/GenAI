{
 "cells": [
  {
   "cell_type": "markdown",
   "id": "61bf9f7e-f4ec-4cd5-b5ec-d08fc440fb8f",
   "metadata": {},
   "source": [
    "### TF-IDF vectrization technique (Tf(t') x Idf(t'))"
   ]
  },
  {
   "cell_type": "code",
   "execution_count": 2,
   "id": "4e2ba690-a5f5-4022-99ad-fc0f31c0177e",
   "metadata": {},
   "outputs": [],
   "source": [
    "from sklearn.feature_extraction.text import TfidfVectorizer"
   ]
  },
  {
   "cell_type": "code",
   "execution_count": 4,
   "id": "c94f911b-94d0-4786-8cf6-8b6ef76e0ee5",
   "metadata": {},
   "outputs": [
    {
     "name": "stdout",
     "output_type": "stream",
     "text": [
      "documents: ['i love machine learning and NLP', 'machine learning is always fun', 'i love coding as well', 'i can code my own machine learning model']\n"
     ]
    }
   ],
   "source": [
    "documents=[\n",
    "    \"i love machine learning and NLP\",\n",
    "    \"machine learning is always fun\",\n",
    "    \"i love coding as well\",\n",
    "    \"i can code my own machine learning model\"\n",
    "]\n",
    "print(\"documents:\",documents)"
   ]
  },
  {
   "cell_type": "code",
   "execution_count": 5,
   "id": "0efffabf-4b9d-4e69-90b3-4d06eb8a9cab",
   "metadata": {},
   "outputs": [],
   "source": [
    "vectorizer=TfidfVectorizer()"
   ]
  },
  {
   "cell_type": "code",
   "execution_count": 6,
   "id": "eb01f354-35fd-45ce-bc47-fd2298a6d962",
   "metadata": {},
   "outputs": [
    {
     "name": "stdout",
     "output_type": "stream",
     "text": [
      "matrix: <Compressed Sparse Row sparse matrix of dtype 'float64'\n",
      "\twith 21 stored elements and shape (4, 16)>\n",
      "  Coords\tValues\n",
      "  (0, 9)\t0.4253047588435995\n",
      "  (0, 10)\t0.34432085671547236\n",
      "  (0, 8)\t0.34432085671547236\n",
      "  (0, 1)\t0.5394451581794177\n",
      "  (0, 13)\t0.5394451581794177\n",
      "  (1, 10)\t0.3267976803045626\n",
      "  (1, 8)\t0.3267976803045626\n",
      "  (1, 7)\t0.5119917161748856\n",
      "  (1, 0)\t0.5119917161748856\n",
      "  (1, 6)\t0.5119917161748856\n",
      "  (2, 9)\t0.41428875116588965\n",
      "  (2, 5)\t0.5254727492640658\n",
      "  (2, 2)\t0.5254727492640658\n",
      "  (2, 15)\t0.5254727492640658\n",
      "  (3, 10)\t0.2646962975587471\n",
      "  (3, 8)\t0.2646962975587471\n",
      "  (3, 3)\t0.41469789970950716\n",
      "  (3, 4)\t0.41469789970950716\n",
      "  (3, 12)\t0.41469789970950716\n",
      "  (3, 14)\t0.41469789970950716\n",
      "  (3, 11)\t0.41469789970950716\n"
     ]
    }
   ],
   "source": [
    "transform_matrix=vectorizer.fit_transform(documents)\n",
    "print(\"matrix:\",transform_matrix)"
   ]
  },
  {
   "cell_type": "code",
   "execution_count": 8,
   "id": "d7586f11-1387-4764-b185-b974e970d13e",
   "metadata": {},
   "outputs": [
    {
     "name": "stdout",
     "output_type": "stream",
     "text": [
      "extraxting features: ['always' 'and' 'as' 'can' 'code' 'coding' 'fun' 'is' 'learning' 'love'\n",
      " 'machine' 'model' 'my' 'nlp' 'own' 'well']\n"
     ]
    }
   ],
   "source": [
    "print(\"extraxting features:\",vectorizer.get_feature_names_out()) # feature extraction"
   ]
  },
  {
   "cell_type": "code",
   "execution_count": 9,
   "id": "8be3c709-ebb5-467a-83ac-4e140f23c65f",
   "metadata": {},
   "outputs": [
    {
     "name": "stdout",
     "output_type": "stream",
     "text": [
      "vector matrix: [[0.         0.53944516 0.         0.         0.         0.\n",
      "  0.         0.         0.34432086 0.42530476 0.34432086 0.\n",
      "  0.         0.53944516 0.         0.        ]\n",
      " [0.51199172 0.         0.         0.         0.         0.\n",
      "  0.51199172 0.51199172 0.32679768 0.         0.32679768 0.\n",
      "  0.         0.         0.         0.        ]\n",
      " [0.         0.         0.52547275 0.         0.         0.52547275\n",
      "  0.         0.         0.         0.41428875 0.         0.\n",
      "  0.         0.         0.         0.52547275]\n",
      " [0.         0.         0.         0.4146979  0.4146979  0.\n",
      "  0.         0.         0.2646963  0.         0.2646963  0.4146979\n",
      "  0.4146979  0.         0.4146979  0.        ]]\n"
     ]
    }
   ],
   "source": [
    "print(\"vector matrix:\",transform_matrix.toarray())"
   ]
  },
  {
   "cell_type": "code",
   "execution_count": 10,
   "id": "752c5640-d4fc-41d3-bae0-1770ce0c08f6",
   "metadata": {},
   "outputs": [
    {
     "name": "stdout",
     "output_type": "stream",
     "text": [
      "vocablary: {'love': 9, 'machine': 10, 'learning': 8, 'and': 1, 'nlp': 13, 'is': 7, 'always': 0, 'fun': 6, 'coding': 5, 'as': 2, 'well': 15, 'can': 3, 'code': 4, 'my': 12, 'own': 14, 'model': 11}\n"
     ]
    }
   ],
   "source": [
    "print(\"vocablary:\",vectorizer.vocabulary_)"
   ]
  },
  {
   "cell_type": "code",
   "execution_count": null,
   "id": "b69ebaf1-34b8-4a73-b1e5-b03b022ec495",
   "metadata": {},
   "outputs": [],
   "source": []
  }
 ],
 "metadata": {
  "kernelspec": {
   "display_name": "Python 3 (ipykernel)",
   "language": "python",
   "name": "python3"
  },
  "language_info": {
   "codemirror_mode": {
    "name": "ipython",
    "version": 3
   },
   "file_extension": ".py",
   "mimetype": "text/x-python",
   "name": "python",
   "nbconvert_exporter": "python",
   "pygments_lexer": "ipython3",
   "version": "3.13.3"
  }
 },
 "nbformat": 4,
 "nbformat_minor": 5
}
