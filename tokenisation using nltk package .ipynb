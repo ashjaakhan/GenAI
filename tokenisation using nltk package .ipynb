{
 "cells": [
  {
   "cell_type": "markdown",
   "id": "056bd63a-cadb-477b-9d3f-bbf4f6d0471a",
   "metadata": {},
   "source": [
    "### working with nltk package"
   ]
  },
  {
   "cell_type": "code",
   "execution_count": 1,
   "id": "bbd2f7f4-1fea-4ef3-98ba-9f6df0cb9228",
   "metadata": {},
   "outputs": [],
   "source": [
    "import nltk"
   ]
  },
  {
   "cell_type": "code",
   "execution_count": 3,
   "id": "5de1e58d-6c4a-470d-a60e-4c744a8543df",
   "metadata": {},
   "outputs": [
    {
     "name": "stderr",
     "output_type": "stream",
     "text": [
      "[nltk_data] Downloading package punkt to C:\\Users\\Mohd Ashjaa\n",
      "[nltk_data]     Khan\\AppData\\Roaming\\nltk_data...\n",
      "[nltk_data]   Package punkt is already up-to-date!\n",
      "[nltk_data] Downloading package punkt_tab to C:\\Users\\Mohd Ashjaa\n",
      "[nltk_data]     Khan\\AppData\\Roaming\\nltk_data...\n",
      "[nltk_data]   Unzipping tokenizers\\punkt_tab.zip.\n"
     ]
    },
    {
     "data": {
      "text/plain": [
       "True"
      ]
     },
     "execution_count": 3,
     "metadata": {},
     "output_type": "execute_result"
    }
   ],
   "source": [
    "nltk.download(\"punkt\")\n",
    "nltk.download(\"punkt_tab\")"
   ]
  },
  {
   "cell_type": "code",
   "execution_count": 4,
   "id": "930d5bc0-e1ae-4b13-80cb-4cea67d9e98e",
   "metadata": {},
   "outputs": [
    {
     "name": "stdout",
     "output_type": "stream",
     "text": [
      "corpus:  Mr. Shahrukh khan likes vadapav of mumbai. Mr. Salman khan likes Chaat of New Delhi\n"
     ]
    }
   ],
   "source": [
    "corpus=\"\"\" Mr. Shahrukh khan likes vadapav of mumbai. Mr. Salman khan likes Chaat of New Delhi\"\"\"  \n",
    "print(\"corpus:\",corpus)"
   ]
  },
  {
   "cell_type": "code",
   "execution_count": 5,
   "id": "0e63508c-a3fa-43b9-89d6-a911af8c90af",
   "metadata": {},
   "outputs": [],
   "source": [
    "from nltk.tokenize import sent_tokenize"
   ]
  },
  {
   "cell_type": "code",
   "execution_count": 6,
   "id": "94b29a35-f7ae-452e-bce2-4a6446a7650a",
   "metadata": {},
   "outputs": [],
   "source": [
    "sentences=sent_tokenize(corpus)"
   ]
  },
  {
   "cell_type": "code",
   "execution_count": 8,
   "id": "f60ecf5b-9dcf-4a20-8e03-f35afa6923b1",
   "metadata": {},
   "outputs": [
    {
     "name": "stdout",
     "output_type": "stream",
     "text": [
      "sentences: [' Mr. Shahrukh khan likes vadapav of mumbai.', 'Mr. Salman khan likes Chaat of New Delhi']\n"
     ]
    }
   ],
   "source": [
    "print(\"sentences:\",sentences)"
   ]
  },
  {
   "cell_type": "code",
   "execution_count": 9,
   "id": "aa3bb2d6-2e04-4d04-9559-efbbf41ed986",
   "metadata": {},
   "outputs": [
    {
     "name": "stdout",
     "output_type": "stream",
     "text": [
      "sentence:  Mr. Shahrukh khan likes vadapav of mumbai.\n",
      "sentence: Mr. Salman khan likes Chaat of New Delhi\n"
     ]
    }
   ],
   "source": [
    "for sentence in sentences:\n",
    "    print(\"sentence:\",sentence)"
   ]
  },
  {
   "cell_type": "code",
   "execution_count": 10,
   "id": "ca72b15b-891e-45a1-bd0b-bb353f1a995d",
   "metadata": {},
   "outputs": [],
   "source": [
    "from nltk.tokenize import word_tokenize"
   ]
  },
  {
   "cell_type": "code",
   "execution_count": 18,
   "id": "52fc1d25-ae17-4126-a617-4c36aedb89a0",
   "metadata": {},
   "outputs": [
    {
     "name": "stdout",
     "output_type": "stream",
     "text": [
      "words: ['Mr.', 'Shahrukh', 'khan', 'likes', 'vadapav', 'of', 'mumbai', '.', 'Mr.', 'Salman', 'khan', 'likes', 'Chaat', 'of', 'New', 'Delhi']\n"
     ]
    }
   ],
   "source": [
    "words=word_tokenize(corpus)\n",
    "print(\"words:\",words)"
   ]
  },
  {
   "cell_type": "code",
   "execution_count": 19,
   "id": "c67e3d0c-84b3-4df3-abd9-2a1242c1ac5a",
   "metadata": {},
   "outputs": [
    {
     "name": "stdout",
     "output_type": "stream",
     "text": [
      "['mr.', 'shahrukh', 'khan', 'likes', 'vadapav', 'of', 'mumbai', '.', 'mr.', 'salman', 'khan', 'likes', 'chaat', 'of', 'new', 'delhi']\n"
     ]
    }
   ],
   "source": [
    "lower=[word.lower() for word in words]\n",
    "print(lower)"
   ]
  },
  {
   "cell_type": "code",
   "execution_count": 28,
   "id": "9fa9b2df-6037-4d9c-854c-8b64bc0573e4",
   "metadata": {},
   "outputs": [
    {
     "name": "stdout",
     "output_type": "stream",
     "text": [
      "['mr.', 'shahrukh', 'khan', 'likes', 'vadapav', 'of', 'mumbai', '.', 'mr.', 'salman', 'khan', 'likes', 'chaat', 'of', 'new', 'delhi']\n"
     ]
    }
   ],
   "source": [
    "lowers=[] #another way \n",
    "for word in words:\n",
    "    lowers.append(str(word).lower())\n",
    "print(lowers)"
   ]
  },
  {
   "cell_type": "code",
   "execution_count": 20,
   "id": "0f586488-53af-42ad-b269-0680c6eb1704",
   "metadata": {},
   "outputs": [
    {
     "name": "stdout",
     "output_type": "stream",
     "text": [
      "vocabs: {'mumbai', 'salman', 'khan', 'mr.', 'likes', '.', 'new', 'shahrukh', 'vadapav', 'chaat', 'delhi', 'of'}\n"
     ]
    }
   ],
   "source": [
    "vocabs=set(lower)\n",
    "print(\"vocabs:\",vocabs)"
   ]
  },
  {
   "cell_type": "code",
   "execution_count": 21,
   "id": "21582495-0f95-40a3-bb0a-6b568dfd6c01",
   "metadata": {},
   "outputs": [],
   "source": [
    "# Grammer:rule book of English\n",
    "#if we freeze the vocabs it cannot be modified hence it will act as grammer"
   ]
  },
  {
   "cell_type": "code",
   "execution_count": 23,
   "id": "eac006b0-c55f-49da-b4ed-d76c66a9eb4e",
   "metadata": {},
   "outputs": [
    {
     "name": "stdout",
     "output_type": "stream",
     "text": [
      "grammer: frozenset({'mumbai', 'salman', 'khan', 'mr.', 'likes', '.', 'new', 'shahrukh', 'vadapav', 'chaat', 'delhi', 'of'})\n"
     ]
    }
   ],
   "source": [
    "grammer =frozenset(vocabs)\n",
    "print(\"grammer:\",grammer)"
   ]
  },
  {
   "cell_type": "code",
   "execution_count": null,
   "id": "4cad25cc-51e6-4933-bd39-7482bc024c56",
   "metadata": {},
   "outputs": [],
   "source": []
  }
 ],
 "metadata": {
  "kernelspec": {
   "display_name": "Python 3 (ipykernel)",
   "language": "python",
   "name": "python3"
  },
  "language_info": {
   "codemirror_mode": {
    "name": "ipython",
    "version": 3
   },
   "file_extension": ".py",
   "mimetype": "text/x-python",
   "name": "python",
   "nbconvert_exporter": "python",
   "pygments_lexer": "ipython3",
   "version": "3.13.3"
  }
 },
 "nbformat": 4,
 "nbformat_minor": 5
}
