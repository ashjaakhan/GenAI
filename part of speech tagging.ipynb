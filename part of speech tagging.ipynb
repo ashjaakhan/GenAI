{
 "cells": [
  {
   "cell_type": "code",
   "execution_count": 1,
   "id": "da9cf30a-356c-4d5b-9a43-bfaceca61fa1",
   "metadata": {},
   "outputs": [],
   "source": [
    "import nltk"
   ]
  },
  {
   "cell_type": "code",
   "execution_count": 2,
   "id": "b8e7c537-b665-4eb3-aefa-1bc0f8379e53",
   "metadata": {},
   "outputs": [
    {
     "name": "stderr",
     "output_type": "stream",
     "text": [
      "[nltk_data] Downloading package punkt to C:\\Users\\Mohd Ashjaa\n",
      "[nltk_data]     Khan\\AppData\\Roaming\\nltk_data...\n",
      "[nltk_data]   Package punkt is already up-to-date!\n"
     ]
    },
    {
     "data": {
      "text/plain": [
       "True"
      ]
     },
     "execution_count": 2,
     "metadata": {},
     "output_type": "execute_result"
    }
   ],
   "source": [
    "nltk.download(\"punkt\")"
   ]
  },
  {
   "cell_type": "code",
   "execution_count": 3,
   "id": "576943f7-00c9-4cab-a9ec-1db86248f26e",
   "metadata": {},
   "outputs": [
    {
     "name": "stderr",
     "output_type": "stream",
     "text": [
      "[nltk_data] Downloading package punkt_tab to C:\\Users\\Mohd Ashjaa\n",
      "[nltk_data]     Khan\\AppData\\Roaming\\nltk_data...\n",
      "[nltk_data]   Package punkt_tab is already up-to-date!\n"
     ]
    },
    {
     "data": {
      "text/plain": [
       "True"
      ]
     },
     "execution_count": 3,
     "metadata": {},
     "output_type": "execute_result"
    }
   ],
   "source": [
    "nltk.download(\"punkt_tab\")"
   ]
  },
  {
   "cell_type": "code",
   "execution_count": 4,
   "id": "fc75d664-89a5-4931-a3c4-6838d0cf3005",
   "metadata": {},
   "outputs": [
    {
     "name": "stderr",
     "output_type": "stream",
     "text": [
      "[nltk_data] Downloading package averaged_perceptron_tagger_eng to\n",
      "[nltk_data]     C:\\Users\\Mohd Ashjaa Khan\\AppData\\Roaming\\nltk_data...\n",
      "[nltk_data]   Package averaged_perceptron_tagger_eng is already up-to-\n",
      "[nltk_data]       date!\n"
     ]
    },
    {
     "data": {
      "text/plain": [
       "True"
      ]
     },
     "execution_count": 4,
     "metadata": {},
     "output_type": "execute_result"
    }
   ],
   "source": [
    "nltk.download(\"averaged_perceptron_tagger_eng\") #for english"
   ]
  },
  {
   "cell_type": "code",
   "execution_count": 5,
   "id": "fb0d22a6-f719-48fa-9c97-2e74dbce20e8",
   "metadata": {},
   "outputs": [
    {
     "name": "stderr",
     "output_type": "stream",
     "text": [
      "[nltk_data] Downloading package averaged_perceptron_tagger to\n",
      "[nltk_data]     C:\\Users\\Mohd Ashjaa Khan\\AppData\\Roaming\\nltk_data...\n",
      "[nltk_data]   Unzipping taggers\\averaged_perceptron_tagger.zip.\n"
     ]
    },
    {
     "data": {
      "text/plain": [
       "True"
      ]
     },
     "execution_count": 5,
     "metadata": {},
     "output_type": "execute_result"
    }
   ],
   "source": [
    "nltk.download(\"averaged_perceptron_tagger\") #general"
   ]
  },
  {
   "cell_type": "code",
   "execution_count": 6,
   "id": "346651a5-4948-4a0b-adcc-3a583e82a748",
   "metadata": {},
   "outputs": [
    {
     "name": "stdout",
     "output_type": "stream",
     "text": [
      "corpus: The Quick Brown fox jumps over the lazy dog\n"
     ]
    }
   ],
   "source": [
    "corpus=\"\"\"The Quick Brown fox jumps over the lazy dog\"\"\"\n",
    "print(\"corpus:\",corpus)"
   ]
  },
  {
   "cell_type": "code",
   "execution_count": 7,
   "id": "64b85232-09a1-4435-bfaa-fe7f4a222fa4",
   "metadata": {},
   "outputs": [
    {
     "name": "stdout",
     "output_type": "stream",
     "text": [
      "word tokenize: ['The', 'Quick', 'Brown', 'fox', 'jumps', 'over', 'the', 'lazy', 'dog']\n"
     ]
    }
   ],
   "source": [
    "words=nltk.word_tokenize(corpus)\n",
    "print(\"word tokenize:\",words)"
   ]
  },
  {
   "cell_type": "code",
   "execution_count": 8,
   "id": "034b9573-b58c-4057-a877-1240f4cb3908",
   "metadata": {},
   "outputs": [
    {
     "name": "stdout",
     "output_type": "stream",
     "text": [
      "pos tag of words: [('The', 'DT'), ('Quick', 'NNP'), ('Brown', 'NNP'), ('fox', 'NN'), ('jumps', 'NNS'), ('over', 'IN'), ('the', 'DT'), ('lazy', 'JJ'), ('dog', 'NN')]\n"
     ]
    }
   ],
   "source": [
    "tagging=nltk.pos_tag(words) #zipper function [(A,1) , (B,2) , (C,3)] list ke andr tuple\n",
    "print(\"pos tag of words:\",tagging)"
   ]
  },
  {
   "cell_type": "code",
   "execution_count": 9,
   "id": "6022f9f1-2d6f-4530-b80f-72892e2541d9",
   "metadata": {},
   "outputs": [
    {
     "name": "stdout",
     "output_type": "stream",
     "text": [
      "word: The tag: DT\n",
      "word: Quick tag: NNP\n",
      "word: Brown tag: NNP\n",
      "word: fox tag: NN\n",
      "word: jumps tag: NNS\n",
      "word: over tag: IN\n",
      "word: the tag: DT\n",
      "word: lazy tag: JJ\n",
      "word: dog tag: NN\n"
     ]
    }
   ],
   "source": [
    "for word,tag in tagging:\n",
    "    print(\"word:\",word,\"tag:\",tag)"
   ]
  },
  {
   "cell_type": "code",
   "execution_count": 11,
   "id": "222bd45e-5491-4053-9638-05fd60f62027",
   "metadata": {},
   "outputs": [
    {
     "name": "stdout",
     "output_type": "stream",
     "text": [
      "corpus: The Quick Brown fox jumps over the lazy dog. The another fox will not jump a lazy dog.\n",
      "sentence tokenize: ['The Quick Brown fox jumps over the lazy dog.', 'The another fox will not jump a lazy dog.']\n"
     ]
    }
   ],
   "source": [
    "corpus=\"\"\"The Quick Brown fox jumps over the lazy dog. The another fox will not jump a lazy dog.\"\"\"\n",
    "print(\"corpus:\",corpus)\n",
    "sent=nltk.sent_tokenize(corpus)\n",
    "print(\"sentence tokenize:\",sent)\n"
   ]
  },
  {
   "cell_type": "code",
   "execution_count": 18,
   "id": "f6e14b52-50f9-441e-ab10-0ef26e759b94",
   "metadata": {},
   "outputs": [
    {
     "name": "stdout",
     "output_type": "stream",
     "text": [
      "multiple sentences: [['The', 'Quick', 'Brown', 'fox', 'jumps', 'over', 'the', 'lazy', 'dog', '.'], ['The', 'another', 'fox', 'will', 'not', 'jump', 'a', 'lazy', 'dog', '.']]\n"
     ]
    }
   ],
   "source": [
    "multiple_sentences=[\n",
    "    nltk.word_tokenize(sent[0]),\n",
    "    nltk.word_tokenize(sent[1]),\n",
    "]\n",
    "print(\"multiple sentences:\",multiple_sentences)"
   ]
  },
  {
   "cell_type": "code",
   "execution_count": 19,
   "id": "e18d577b-b1b2-4d37-897f-3f0e0bc5a6cb",
   "metadata": {},
   "outputs": [
    {
     "name": "stdout",
     "output_type": "stream",
     "text": [
      "pos tag of sentence: [[('The', 'DT'), ('Quick', 'NNP'), ('Brown', 'NNP'), ('fox', 'NN'), ('jumps', 'NNS'), ('over', 'IN'), ('the', 'DT'), ('lazy', 'JJ'), ('dog', 'NN'), ('.', '.')], [('The', 'DT'), ('another', 'DT'), ('fox', 'NN'), ('will', 'MD'), ('not', 'RB'), ('jump', 'VB'), ('a', 'DT'), ('lazy', 'JJ'), ('dog', 'NN'), ('.', '.')]]\n"
     ]
    }
   ],
   "source": [
    "pos_tag_sent=nltk.pos_tag_sents(multiple_sentences)\n",
    "print(\"pos tag of sentence:\",pos_tag_sent)"
   ]
  }
 ],
 "metadata": {
  "kernelspec": {
   "display_name": "Python 3 (ipykernel)",
   "language": "python",
   "name": "python3"
  },
  "language_info": {
   "codemirror_mode": {
    "name": "ipython",
    "version": 3
   },
   "file_extension": ".py",
   "mimetype": "text/x-python",
   "name": "python",
   "nbconvert_exporter": "python",
   "pygments_lexer": "ipython3",
   "version": "3.13.3"
  }
 },
 "nbformat": 4,
 "nbformat_minor": 5
}
