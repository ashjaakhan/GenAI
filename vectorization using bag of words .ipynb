{
 "cells": [
  {
   "cell_type": "markdown",
   "id": "b4602758-a23c-4fe6-bf4c-d2f1398f36b0",
   "metadata": {},
   "source": [
    "### vectorization technique: Bag of words (BOW)"
   ]
  },
  {
   "cell_type": "code",
   "execution_count": 7,
   "id": "7292ca29-0080-4519-b924-e0ba51814106",
   "metadata": {},
   "outputs": [],
   "source": [
    "from sklearn.feature_extraction.text import CountVectorizer"
   ]
  },
  {
   "cell_type": "code",
   "execution_count": 25,
   "id": "88ba2f1e-b9cf-4de1-8460-08bdf7625d3f",
   "metadata": {},
   "outputs": [
    {
     "name": "stdout",
     "output_type": "stream",
     "text": [
      "corpus: ['we love machine learning and artificial intelligence with NLP', 'machine learning and artificial intelligence is awsome', 'NLP is a part of machine learning and artificial intelligence']\n"
     ]
    }
   ],
   "source": [
    "corpus_arr=[\n",
    "    \"we love machine learning and artificial intelligence with NLP\",\n",
    "    \"machine learning and artificial intelligence is awsome\",\n",
    "    \"NLP is a part of machine learning and artificial intelligence\"\n",
    "]\n",
    "print(\"corpus:\",corpus_arr)"
   ]
  },
  {
   "cell_type": "code",
   "execution_count": 26,
   "id": "6d96f10c-e32f-4261-a607-6da769eae905",
   "metadata": {},
   "outputs": [
    {
     "name": "stderr",
     "output_type": "stream",
     "text": [
      "[nltk_data] Downloading package punkt to C:\\Users\\Mohd Ashjaa\n",
      "[nltk_data]     Khan\\AppData\\Roaming\\nltk_data...\n",
      "[nltk_data]   Package punkt is already up-to-date!\n",
      "[nltk_data] Downloading package punkt_tab to C:\\Users\\Mohd Ashjaa\n",
      "[nltk_data]     Khan\\AppData\\Roaming\\nltk_data...\n",
      "[nltk_data]   Package punkt_tab is already up-to-date!\n"
     ]
    },
    {
     "data": {
      "text/plain": [
       "True"
      ]
     },
     "execution_count": 26,
     "metadata": {},
     "output_type": "execute_result"
    }
   ],
   "source": [
    "import nltk\n",
    "nltk.download(\"punkt\")\n",
    "nltk.download(\"punkt_tab\")"
   ]
  },
  {
   "cell_type": "code",
   "execution_count": 27,
   "id": "dee809b6-6137-48f9-b6cb-5c20a56b5078",
   "metadata": {},
   "outputs": [],
   "source": [
    "from nltk.tokenize import sent_tokenize,word_tokenize"
   ]
  },
  {
   "cell_type": "code",
   "execution_count": 28,
   "id": "2c58425c-e9ee-40e3-b489-f6b727132c84",
   "metadata": {},
   "outputs": [
    {
     "name": "stdout",
     "output_type": "stream",
     "text": [
      "we love machine learning and artificial intelligence with NLP\n",
      "machine learning and artificial intelligence is awsome\n",
      "NLP is a part of machine learning and artificial intelligence\n"
     ]
    }
   ],
   "source": [
    "for corpus in corpus_arr:\n",
    "    print(corpus)"
   ]
  },
  {
   "cell_type": "code",
   "execution_count": 34,
   "id": "3722763c-b6db-4553-9b56-e3c9ee4f4f9a",
   "metadata": {},
   "outputs": [],
   "source": [
    "words_list=[]\n",
    "for corpus in corpus_arr:\n",
    "    words_list.append(word_tokenize(corpus))"
   ]
  },
  {
   "cell_type": "code",
   "execution_count": 35,
   "id": "46840c3a-ade7-4f37-803e-218c7172b14d",
   "metadata": {},
   "outputs": [
    {
     "name": "stdout",
     "output_type": "stream",
     "text": [
      "words list of each corpus: [['we', 'love', 'machine', 'learning', 'and', 'artificial', 'intelligence', 'with', 'NLP'], ['machine', 'learning', 'and', 'artificial', 'intelligence', 'is', 'awsome'], ['NLP', 'is', 'a', 'part', 'of', 'machine', 'learning', 'and', 'artificial', 'intelligence']]\n"
     ]
    }
   ],
   "source": [
    "print(\"words list of each corpus:\",words)"
   ]
  },
  {
   "cell_type": "code",
   "execution_count": 36,
   "id": "d6bf3ffd-139a-4210-8a22-31b5944c2072",
   "metadata": {},
   "outputs": [
    {
     "name": "stdout",
     "output_type": "stream",
     "text": [
      "frequency of corpus: [9, 7, 10]\n"
     ]
    }
   ],
   "source": [
    "frequency_of_corpus=[len(w_list) for w_list in words_list]\n",
    "print(\"frequency of corpus:\",frequency_of_corpus)"
   ]
  },
  {
   "cell_type": "code",
   "execution_count": 37,
   "id": "6e0f105a-0f75-4663-9e52-85dfe9827243",
   "metadata": {},
   "outputs": [],
   "source": [
    "## usibg BOW"
   ]
  },
  {
   "cell_type": "code",
   "execution_count": 38,
   "id": "7143a924-cc9c-43e0-bbce-e24a36749ebc",
   "metadata": {},
   "outputs": [],
   "source": [
    "vectorizer=CountVectorizer() #object"
   ]
  },
  {
   "cell_type": "code",
   "execution_count": 51,
   "id": "57b45358-9c1d-476b-bc32-4e1ba7849dbe",
   "metadata": {},
   "outputs": [
    {
     "name": "stdout",
     "output_type": "stream",
     "text": [
      "matrix: <Compressed Sparse Row sparse matrix of dtype 'int64'\n",
      "\twith 25 stored elements and shape (3, 13)>\n",
      "  Coords\tValues\n",
      "  (0, 11)\t1\n",
      "  (0, 6)\t1\n",
      "  (0, 7)\t1\n",
      "  (0, 5)\t1\n",
      "  (0, 0)\t1\n",
      "  (0, 1)\t1\n",
      "  (0, 3)\t1\n",
      "  (0, 12)\t1\n",
      "  (0, 8)\t1\n",
      "  (1, 7)\t1\n",
      "  (1, 5)\t1\n",
      "  (1, 0)\t1\n",
      "  (1, 1)\t1\n",
      "  (1, 3)\t1\n",
      "  (1, 4)\t1\n",
      "  (1, 2)\t1\n",
      "  (2, 7)\t1\n",
      "  (2, 5)\t1\n",
      "  (2, 0)\t1\n",
      "  (2, 1)\t1\n",
      "  (2, 3)\t1\n",
      "  (2, 8)\t1\n",
      "  (2, 4)\t1\n",
      "  (2, 10)\t1\n",
      "  (2, 9)\t1\n"
     ]
    }
   ],
   "source": [
    "transform_matrix= vectorizer.fit_transform(corpus_arr)\n",
    "print(\"matrix:\",transform_matrix)"
   ]
  },
  {
   "cell_type": "code",
   "execution_count": 52,
   "id": "de2e2964-643d-4417-b936-eab08798153d",
   "metadata": {},
   "outputs": [
    {
     "name": "stdout",
     "output_type": "stream",
     "text": [
      "length of corpus: 3\n"
     ]
    }
   ],
   "source": [
    "# how to calculate order:-\n",
    "print(\"length of corpus:\",len(corpus_arr))"
   ]
  },
  {
   "cell_type": "code",
   "execution_count": 53,
   "id": "5d3f629c-bed0-4457-ac86-c0851ea3bb4c",
   "metadata": {},
   "outputs": [
    {
     "name": "stdout",
     "output_type": "stream",
     "text": [
      "vocablary of the corpus array exclusing whitespace: 13\n"
     ]
    }
   ],
   "source": [
    "print(\"vocablary of the corpus array exclusing whitespace:\",13)"
   ]
  },
  {
   "cell_type": "code",
   "execution_count": 54,
   "id": "bcdeebed-a6b3-40d9-8795-a8f850f29089",
   "metadata": {},
   "outputs": [
    {
     "name": "stdout",
     "output_type": "stream",
     "text": [
      "vocablary of the corpus array including whitespace: 14\n"
     ]
    }
   ],
   "source": [
    "print(\"vocablary of the corpus array including whitespace:\",14)"
   ]
  },
  {
   "cell_type": "code",
   "execution_count": 55,
   "id": "10a691d6-ce40-4605-bc81-8d1f88eab4b6",
   "metadata": {},
   "outputs": [
    {
     "name": "stdout",
     "output_type": "stream",
     "text": [
      "order of the corpus array: 3 x 13\n"
     ]
    }
   ],
   "source": [
    "X=len(corpus_arr)\n",
    "Y=13\n",
    "print(\"order of the corpus array:\",X,\"x\",Y)"
   ]
  },
  {
   "cell_type": "code",
   "execution_count": 60,
   "id": "6e77910f-45db-4630-931b-554c4aac99b1",
   "metadata": {},
   "outputs": [
    {
     "name": "stdout",
     "output_type": "stream",
     "text": [
      "vocablary: {'we': 11, 'love': 6, 'machine': 7, 'learning': 5, 'and': 0, 'artificial': 1, 'intelligence': 3, 'with': 12, 'nlp': 8, 'is': 4, 'awsome': 2, 'part': 10, 'of': 9}\n"
     ]
    }
   ],
   "source": [
    "print(\"vocablary:\",vectorizer.vocabulary_)"
   ]
  },
  {
   "cell_type": "code",
   "execution_count": 61,
   "id": "201229ab-1101-40a6-870f-68c47ff901c6",
   "metadata": {},
   "outputs": [
    {
     "name": "stdout",
     "output_type": "stream",
     "text": [
      "BOW matrix: [[1 1 0 1 0 1 1 1 1 0 0 1 1]\n",
      " [1 1 1 1 1 1 0 1 0 0 0 0 0]\n",
      " [1 1 0 1 1 1 0 1 1 1 1 0 0]]\n"
     ]
    }
   ],
   "source": [
    "print(\"BOW matrix:\",transform_matrix.toarray())"
   ]
  },
  {
   "cell_type": "code",
   "execution_count": null,
   "id": "3434fc00-8c20-417d-9519-10e99b80f6a9",
   "metadata": {},
   "outputs": [],
   "source": []
  }
 ],
 "metadata": {
  "kernelspec": {
   "display_name": "Python 3 (ipykernel)",
   "language": "python",
   "name": "python3"
  },
  "language_info": {
   "codemirror_mode": {
    "name": "ipython",
    "version": 3
   },
   "file_extension": ".py",
   "mimetype": "text/x-python",
   "name": "python",
   "nbconvert_exporter": "python",
   "pygments_lexer": "ipython3",
   "version": "3.13.3"
  }
 },
 "nbformat": 4,
 "nbformat_minor": 5
}
