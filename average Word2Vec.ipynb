{
 "cells": [
  {
   "cell_type": "markdown",
   "id": "62f806f7-5196-4526-886c-ab307d9084f6",
   "metadata": {},
   "source": [
    "### wap in python to implement << avg >> word2vec"
   ]
  },
  {
   "cell_type": "code",
   "execution_count": 4,
   "id": "9ab37711-b000-4971-a91d-95c939f6da20",
   "metadata": {},
   "outputs": [],
   "source": [
    "import numpy as np"
   ]
  },
  {
   "cell_type": "code",
   "execution_count": 5,
   "id": "2f048e6b-67d6-4fb1-b7c5-46791515328f",
   "metadata": {},
   "outputs": [],
   "source": [
    "from gensim.models import Word2Vec"
   ]
  },
  {
   "cell_type": "code",
   "execution_count": 6,
   "id": "1da34da3-7edf-4e93-9b40-e8d578d8c95b",
   "metadata": {},
   "outputs": [],
   "source": [
    "def avg_word_2_vec(sentence,model):\n",
    "    words=sentence.lower().split() #convert to lower case and split using space\n",
    "    word_vec=[model[word] for word in words if word in model]\n",
    "    return np.mean(word_vec,axis=0) if word_vec else np.zeros(model.vector_size)"
   ]
  },
  {
   "cell_type": "code",
   "execution_count": 7,
   "id": "f4c56e0b-5fbb-433e-a979-e541380291f6",
   "metadata": {},
   "outputs": [],
   "source": [
    "import gensim.downloader as api"
   ]
  },
  {
   "cell_type": "code",
   "execution_count": 18,
   "id": "9ad5e5b7-82a3-49b7-b03d-1a37f405a9af",
   "metadata": {},
   "outputs": [],
   "source": [
    "# how to find model list\n",
    "info=api.info()\n",
    "#print(\"information:\",info)\n",
    "\n",
    "model_list=info[\"models\"]\n",
    "#print(\"model list:\",model_list)\n",
    "#print(List(model_list.keys()))\n"
   ]
  },
  {
   "cell_type": "code",
   "execution_count": 19,
   "id": "a3de3229-ea8c-48f1-bd15-4f5a23a2ec52",
   "metadata": {},
   "outputs": [],
   "source": [
    "model=api.load(\"glove-wiki-gigaword-50\")"
   ]
  },
  {
   "cell_type": "code",
   "execution_count": 20,
   "id": "d582d359-527f-43d8-b204-7b53403b3e01",
   "metadata": {},
   "outputs": [
    {
     "name": "stdout",
     "output_type": "stream",
     "text": [
      "average word2vec vector: [ 1.6810659e-01  4.2515001e-01 -4.5641598e-01  6.1763398e-02\n",
      "  4.7822198e-01  1.4653800e-01 -2.6719922e-01 -4.9137798e-01\n",
      " -7.2861970e-03  4.6403399e-01 -6.0739987e-02  1.8996999e-01\n",
      " -3.1089321e-01 -2.5641698e-01  2.5636798e-01 -3.3912599e-02\n",
      "  3.6421099e-01  5.9059602e-01 -2.8610799e-01 -3.4253877e-01\n",
      " -7.9971798e-02  6.2319601e-01  1.2204321e-01  2.3708479e-01\n",
      "  8.4862995e-01 -9.8179597e-01 -7.1973598e-01  9.2179952e-03\n",
      "  4.2440876e-01 -4.6975678e-01  3.0086401e+00  3.2687402e-01\n",
      " -3.6099970e-03 -4.6451798e-01  5.6516998e-02  2.3396201e-01\n",
      " -1.2331196e-01  4.0787402e-01 -3.0958002e-02 -1.6319600e-01\n",
      "  1.3751984e-03 -7.0696011e-02 -3.0159801e-01  2.2692180e-01\n",
      "  9.3886599e-02  3.3169996e-02  3.4168199e-01 -2.4768999e-01\n",
      "  1.6453996e-02  5.1183200e-01]\n"
     ]
    }
   ],
   "source": [
    "sentence=\"maxhine learning is fun and amazing\"\n",
    "vector=avg_word_2_vec(sentence,model)\n",
    "print(\"average word2vec vector:\",vector)"
   ]
  },
  {
   "cell_type": "code",
   "execution_count": null,
   "id": "f453ec10-772d-449c-8c7b-27205746e97d",
   "metadata": {},
   "outputs": [],
   "source": []
  }
 ],
 "metadata": {
  "kernelspec": {
   "display_name": "Python 3 (ipykernel)",
   "language": "python",
   "name": "python3"
  },
  "language_info": {
   "codemirror_mode": {
    "name": "ipython",
    "version": 3
   },
   "file_extension": ".py",
   "mimetype": "text/x-python",
   "name": "python",
   "nbconvert_exporter": "python",
   "pygments_lexer": "ipython3",
   "version": "3.10.11"
  }
 },
 "nbformat": 4,
 "nbformat_minor": 5
}
