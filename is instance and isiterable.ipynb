{
 "cells": [
  {
   "cell_type": "code",
   "execution_count": 1,
   "id": "82a67fb9-5f73-4cf2-b4e0-ce4f14ff5170",
   "metadata": {},
   "outputs": [
    {
     "name": "stdout",
     "output_type": "stream",
     "text": [
      "length of s: 6\n"
     ]
    }
   ],
   "source": [
    "s=\"ashjaa\"\n",
    "print(\"length of s:\",len(s))"
   ]
  },
  {
   "cell_type": "code",
   "execution_count": 2,
   "id": "33b6df00-cdfd-4912-aa66-8e7bc20a67ca",
   "metadata": {},
   "outputs": [
    {
     "name": "stdout",
     "output_type": "stream",
     "text": [
      "type of s: <class 'str'>\n"
     ]
    }
   ],
   "source": [
    "print(\"type of s:\",type(s))"
   ]
  },
  {
   "cell_type": "code",
   "execution_count": 3,
   "id": "6122a30b-4928-4686-b0dd-5aa17458f694",
   "metadata": {},
   "outputs": [
    {
     "name": "stdout",
     "output_type": "stream",
     "text": [
      "is instance of : True\n"
     ]
    }
   ],
   "source": [
    "## checking is in instance or not for NLP\n",
    "print(\"is instance of :\",isinstance(s,str))"
   ]
  },
  {
   "cell_type": "code",
   "execution_count": 5,
   "id": "d45722e7-8c5e-450d-b012-394196126ded",
   "metadata": {},
   "outputs": [
    {
     "name": "stdout",
     "output_type": "stream",
     "text": [
      "a\n",
      "s\n",
      "h\n",
      "j\n",
      "a\n",
      "a\n"
     ]
    }
   ],
   "source": [
    "## checking iterable or not for NLP\n",
    "for i in s:\n",
    "    print(i)"
   ]
  },
  {
   "cell_type": "code",
   "execution_count": 6,
   "id": "bdb19875-e5ca-41fc-9c75-87c3fc1e7b95",
   "metadata": {},
   "outputs": [],
   "source": [
    "from collections.abc import Iterable"
   ]
  },
  {
   "cell_type": "code",
   "execution_count": 7,
   "id": "60aa8f28-ca4e-4676-bcc8-67ffccc595b8",
   "metadata": {},
   "outputs": [
    {
     "name": "stdout",
     "output_type": "stream",
     "text": [
      "is iterable: True\n"
     ]
    }
   ],
   "source": [
    "print(\"is iterable:\",isinstance(s,Iterable))"
   ]
  },
  {
   "cell_type": "code",
   "execution_count": 8,
   "id": "a148bb2f-789d-4141-b7e1-8fd97f5a6647",
   "metadata": {},
   "outputs": [
    {
     "name": "stdout",
     "output_type": "stream",
     "text": [
      "is iterable: False\n"
     ]
    }
   ],
   "source": [
    "print(\"is iterable:\",isinstance(10,Iterable))"
   ]
  },
  {
   "cell_type": "code",
   "execution_count": 12,
   "id": "847c6ffc-c0fb-4354-ae4d-9004c5b140b7",
   "metadata": {},
   "outputs": [
    {
     "name": "stdout",
     "output_type": "stream",
     "text": [
      "is instance of: True\n"
     ]
    }
   ],
   "source": [
    "print(\"is instance of:\",isinstance(s,str))"
   ]
  },
  {
   "cell_type": "code",
   "execution_count": 13,
   "id": "b886323b-bc3a-4623-95e7-e401b6bb6ebe",
   "metadata": {},
   "outputs": [
    {
     "name": "stdout",
     "output_type": "stream",
     "text": [
      "is instance of: True\n"
     ]
    }
   ],
   "source": [
    "print(\"is instance of:\",isinstance(10,int))"
   ]
  },
  {
   "cell_type": "code",
   "execution_count": null,
   "id": "4f33ddf0-385c-4916-9762-9a7d7a03a5e1",
   "metadata": {},
   "outputs": [],
   "source": []
  }
 ],
 "metadata": {
  "kernelspec": {
   "display_name": "Python 3 (ipykernel)",
   "language": "python",
   "name": "python3"
  },
  "language_info": {
   "codemirror_mode": {
    "name": "ipython",
    "version": 3
   },
   "file_extension": ".py",
   "mimetype": "text/x-python",
   "name": "python",
   "nbconvert_exporter": "python",
   "pygments_lexer": "ipython3",
   "version": "3.13.3"
  }
 },
 "nbformat": 4,
 "nbformat_minor": 5
}
