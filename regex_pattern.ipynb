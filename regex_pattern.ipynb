{
 "cells": [
  {
   "cell_type": "markdown",
   "id": "057c8902-869d-481a-bf3e-49ee055c634a",
   "metadata": {},
   "source": [
    "working with regex(regular expressions) pattern "
   ]
  },
  {
   "cell_type": "code",
   "execution_count": 1,
   "id": "e2467626-af4f-4d2d-a41a-ea72e8d675d8",
   "metadata": {},
   "outputs": [],
   "source": [
    "import re"
   ]
  },
  {
   "cell_type": "code",
   "execution_count": 3,
   "id": "678e2589-285f-4774-9109-585c7edd3feb",
   "metadata": {},
   "outputs": [],
   "source": [
    "pattern=re.compile(\"ab\") #every regex starts with / and ends with /"
   ]
  },
  {
   "cell_type": "code",
   "execution_count": 20,
   "id": "317ec8cd-3052-44a7-96b4-dfada26b6861",
   "metadata": {},
   "outputs": [
    {
     "name": "stdout",
     "output_type": "stream",
     "text": [
      "0 ----- 2 ----- ab\n",
      "3 ----- 5 ----- ab\n",
      "5 ----- 7 ----- ab\n"
     ]
    }
   ],
   "source": [
    "matcher =pattern.finditer(\"abaabab\")\n",
    "for match in matcher:\n",
    "    print(match.start(),\"-----\",match.end(),\"-----\",match.group()) "
   ]
  },
  {
   "cell_type": "markdown",
   "id": "6c32b105-9d9b-4943-b4aa-cb3a8a2df9f3",
   "metadata": {},
   "source": [
    "shortcut"
   ]
  },
  {
   "cell_type": "code",
   "execution_count": 19,
   "id": "2511f2fa-1ea2-41e6-a429-540bae9f83f1",
   "metadata": {},
   "outputs": [
    {
     "name": "stdout",
     "output_type": "stream",
     "text": [
      "0 ----- 2 ----- ab\n",
      "3 ----- 5 ----- ab\n",
      "5 ----- 7 ----- ab\n"
     ]
    }
   ],
   "source": [
    "import re\n",
    "matcher =re.finditer(\"ab\",\"abaabab\")\n",
    "for match in matcher:\n",
    "    print(match.start(),\"-----\",match.end(),\"-----\",match.group()) \n"
   ]
  },
  {
   "cell_type": "code",
   "execution_count": null,
   "id": "62863774-6dc2-4946-88ae-f71540abc1e7",
   "metadata": {},
   "outputs": [],
   "source": []
  }
 ],
 "metadata": {
  "kernelspec": {
   "display_name": "Python 3 (ipykernel)",
   "language": "python",
   "name": "python3"
  },
  "language_info": {
   "codemirror_mode": {
    "name": "ipython",
    "version": 3
   },
   "file_extension": ".py",
   "mimetype": "text/x-python",
   "name": "python",
   "nbconvert_exporter": "python",
   "pygments_lexer": "ipython3",
   "version": "3.13.3"
  }
 },
 "nbformat": 4,
 "nbformat_minor": 5
}
