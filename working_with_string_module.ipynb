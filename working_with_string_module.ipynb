{
 "cells": [
  {
   "cell_type": "markdown",
   "id": "22eadb86-892e-4302-84b8-143a7d2c426b",
   "metadata": {},
   "source": [
    "## Gen AI Lecture 1:NLP technique-data cleaning"
   ]
  },
  {
   "cell_type": "code",
   "execution_count": 2,
   "id": "8bc2ff63-ae94-49bc-aa42-ee60e2e32c9c",
   "metadata": {},
   "outputs": [],
   "source": [
    "import string as s\n"
   ]
  },
  {
   "cell_type": "code",
   "execution_count": 3,
   "id": "db86af0e-6d48-4057-a049-2e64ea6621f7",
   "metadata": {},
   "outputs": [
    {
     "name": "stdout",
     "output_type": "stream",
     "text": [
      "lower case string: abcdefghijklmnopqrstuvwxyz\n"
     ]
    }
   ],
   "source": [
    "print(\"lower case string:\",s.ascii_lowercase)"
   ]
  },
  {
   "cell_type": "code",
   "execution_count": 4,
   "id": "fb7d15ad-2606-4a9a-9eed-ce756f35dbfa",
   "metadata": {},
   "outputs": [
    {
     "name": "stdout",
     "output_type": "stream",
     "text": [
      "upper case string: ABCDEFGHIJKLMNOPQRSTUVWXYZ\n"
     ]
    }
   ],
   "source": [
    "print(\"upper case string:\",s.ascii_uppercase)"
   ]
  },
  {
   "cell_type": "code",
   "execution_count": 6,
   "id": "ea4ab3f0-e6f2-4587-b231-6ed5da033e85",
   "metadata": {},
   "outputs": [
    {
     "name": "stdout",
     "output_type": "stream",
     "text": [
      "punctuation strings: !\"#$%&'()*+,-./:;<=>?@[\\]^_`{|}~\n"
     ]
    }
   ],
   "source": [
    "print(\"punctuation strings:\",s.punctuation)"
   ]
  },
  {
   "cell_type": "code",
   "execution_count": 7,
   "id": "ab274490-96f8-4d2e-95f8-de0dff6dd2c8",
   "metadata": {},
   "outputs": [
    {
     "name": "stdout",
     "output_type": "stream",
     "text": [
      "digit strings: 0123456789\n"
     ]
    }
   ],
   "source": [
    "print(\"digit strings:\",s.digits)"
   ]
  },
  {
   "cell_type": "code",
   "execution_count": 10,
   "id": "b17b0760-a330-4c02-9418-1ad0b4947a98",
   "metadata": {},
   "outputs": [
    {
     "name": "stdout",
     "output_type": "stream",
     "text": [
      "Ashjaa Khan\n"
     ]
    }
   ],
   "source": [
    "name=\"ashjaa khan\"\n",
    "print(s.capwords(name))"
   ]
  },
  {
   "cell_type": "code",
   "execution_count": 11,
   "id": "8d84a6b0-a79b-45a5-ae5d-cfa3b6c76164",
   "metadata": {},
   "outputs": [],
   "source": [
    "##formatter and template class\n",
    "from string import Formatter\n"
   ]
  },
  {
   "cell_type": "code",
   "execution_count": 13,
   "id": "3535cc63-fea2-4d5f-bb6a-6a865e2eec73",
   "metadata": {},
   "outputs": [
    {
     "name": "stdout",
     "output_type": "stream",
     "text": [
      "hello ashjaa khan of age 19\n"
     ]
    }
   ],
   "source": [
    "name=\"ashjaa\"\n",
    "age=19\n",
    "formatter=Formatter()\n",
    "form_str=formatter.format(\"hello {} khan of age {}\",name,age)\n",
    "print(form_str)"
   ]
  },
  {
   "cell_type": "code",
   "execution_count": 15,
   "id": "7500ff93-2c98-46d8-aebe-cb2808e299e2",
   "metadata": {},
   "outputs": [
    {
     "name": "stdout",
     "output_type": "stream",
     "text": [
      "hello ashjaa khan of age 19\n"
     ]
    }
   ],
   "source": [
    "print(f\"hello {name} khan of age {age}\")"
   ]
  },
  {
   "cell_type": "code",
   "execution_count": 16,
   "id": "5b99b0cc-0a77-4af0-8ff0-7024f248ef01",
   "metadata": {},
   "outputs": [
    {
     "name": "stdout",
     "output_type": "stream",
     "text": [
      "hello ashjaa khan of age 19\n"
     ]
    }
   ],
   "source": [
    "print(\"hello {} khan of age {}\".format(\"ashjaa\",19))"
   ]
  },
  {
   "cell_type": "code",
   "execution_count": 17,
   "id": "764d8d0a-bf1e-427a-be67-b0ca703ab439",
   "metadata": {},
   "outputs": [
    {
     "name": "stdout",
     "output_type": "stream",
     "text": [
      "hello 19 khan of age ashjaa\n"
     ]
    }
   ],
   "source": [
    "print(\"hello {1} khan of age {0}\".format(\"ashjaa\",19))"
   ]
  },
  {
   "cell_type": "code",
   "execution_count": 18,
   "id": "e4cf6e45-ac9c-4bc5-8900-2d300b82b57c",
   "metadata": {},
   "outputs": [
    {
     "name": "stdout",
     "output_type": "stream",
     "text": [
      "hello ashjaa khan of age 19\n"
     ]
    }
   ],
   "source": [
    "print(\"hello {0} khan of age {1}\".format(\"ashjaa\",19))"
   ]
  },
  {
   "cell_type": "code",
   "execution_count": 19,
   "id": "e42fb9ca-f0cd-4017-bcef-3068e2727c6b",
   "metadata": {},
   "outputs": [
    {
     "name": "stdout",
     "output_type": "stream",
     "text": [
      "hello A khan of age 20\n"
     ]
    }
   ],
   "source": [
    "name=\"A\"\n",
    "age=20\n",
    "print(\"hello {0} khan of age {1}\".format(name,age))"
   ]
  },
  {
   "cell_type": "code",
   "execution_count": 20,
   "id": "fa7a84b3-e471-4729-b045-9fbc64634526",
   "metadata": {},
   "outputs": [
    {
     "name": "stdout",
     "output_type": "stream",
     "text": [
      "hello A khan of age 20\n"
     ]
    }
   ],
   "source": [
    "print(\"hello {name} khan of age {age}\".format(age=age,name=name))"
   ]
  },
  {
   "cell_type": "code",
   "execution_count": 21,
   "id": "7e46c974-d3a8-46fb-8a63-f2191942f650",
   "metadata": {},
   "outputs": [],
   "source": [
    "## use of template class"
   ]
  },
  {
   "cell_type": "code",
   "execution_count": 22,
   "id": "858c1738-e393-4610-99ce-84be1cc4b94a",
   "metadata": {},
   "outputs": [],
   "source": [
    "# 5 best used case of template"
   ]
  },
  {
   "cell_type": "code",
   "execution_count": 23,
   "id": "41371ff7-ffa4-4310-b37d-6eaa69564e43",
   "metadata": {},
   "outputs": [],
   "source": [
    "from string import Template\n"
   ]
  },
  {
   "cell_type": "code",
   "execution_count": 28,
   "id": "24f2ae2d-c187-4e12-a335-ce9c889abf0a",
   "metadata": {},
   "outputs": [
    {
     "name": "stdout",
     "output_type": "stream",
     "text": [
      "hello ashjaa khan\n"
     ]
    }
   ],
   "source": [
    "tmp=Template(\"hello $name\") #here u can create your own variable placeholder,Identifiers,template uses $ as a prefix\n",
    "parsed_string=tmp.substitute(name=\"ashjaa khan\")\n",
    "print(parsed_string)"
   ]
  },
  {
   "cell_type": "code",
   "execution_count": 27,
   "id": "f70a5705-0216-4293-8810-fb3342c192ca",
   "metadata": {},
   "outputs": [
    {
     "name": "stdout",
     "output_type": "stream",
     "text": [
      "hello @name\n"
     ]
    }
   ],
   "source": [
    "tmp=Template(\"hello @name\") \n",
    "parsed_string=tmp.substitute(name=\"ashjaa khan\")\n",
    "print(parsed_string)"
   ]
  },
  {
   "cell_type": "code",
   "execution_count": 29,
   "id": "29e7e216-6f08-4ce5-9cf2-8574ea3dd536",
   "metadata": {},
   "outputs": [],
   "source": [
    "email_msg=\"Dear $customer, Your Order NO:#$order_id has been Delivered\""
   ]
  },
  {
   "cell_type": "code",
   "execution_count": 31,
   "id": "ceeb2e32-4246-4e49-98ff-3290d38ac4df",
   "metadata": {},
   "outputs": [
    {
     "name": "stdout",
     "output_type": "stream",
     "text": [
      "Dear ashjaa, Your Order NO:#ORD345672 has been Delivered\n"
     ]
    }
   ],
   "source": [
    "t=Template(email_msg)\n",
    "parsed_msg=t.substitute(customer=\"ashjaa\",order_id=\"ORD345672\")\n",
    "print(parsed_msg)"
   ]
  },
  {
   "cell_type": "code",
   "execution_count": 32,
   "id": "9a265167-41d2-4fdb-b0cb-257adbc6d668",
   "metadata": {},
   "outputs": [
    {
     "name": "stdout",
     "output_type": "stream",
     "text": [
      "\n",
      "192.876.67\n",
      "host=localhost\n",
      "port=8888\n",
      "user=rootuser\n",
      "password=1234567\n",
      "\n"
     ]
    }
   ],
   "source": [
    "t=Template('''\n",
    "192.876.67\n",
    "host=$host\n",
    "port=$port\n",
    "user=$user\n",
    "password=$password\n",
    "''')\n",
    "config ={\"host\":\"localhost\",\"port\":8888,\"user\":\"rootuser\",\"password\":1234567}\n",
    "print(t.substitute(config))\n"
   ]
  },
  {
   "cell_type": "code",
   "execution_count": null,
   "id": "67c6a552-613d-4971-a4b0-ee0b87bfd077",
   "metadata": {},
   "outputs": [],
   "source": []
  }
 ],
 "metadata": {
  "kernelspec": {
   "display_name": "Python 3 (ipykernel)",
   "language": "python",
   "name": "python3"
  },
  "language_info": {
   "codemirror_mode": {
    "name": "ipython",
    "version": 3
   },
   "file_extension": ".py",
   "mimetype": "text/x-python",
   "name": "python",
   "nbconvert_exporter": "python",
   "pygments_lexer": "ipython3",
   "version": "3.13.3"
  }
 },
 "nbformat": 4,
 "nbformat_minor": 5
}
