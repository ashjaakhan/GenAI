{
 "cells": [
  {
   "cell_type": "markdown",
   "id": "898f8db2-ed6b-47bd-b3d9-3acf04b7952d",
   "metadata": {},
   "source": [
    "### demo of creating a new list without list comprehension"
   ]
  },
  {
   "cell_type": "markdown",
   "id": "ec9b4bcb-31bd-4f8f-9564-3c405553d236",
   "metadata": {},
   "source": [
    "consider a iterable(list,tuple,range,str...)"
   ]
  },
  {
   "cell_type": "code",
   "execution_count": 1,
   "id": "0bb2dea1-dcc9-4212-8c77-5f9e84ccc3ab",
   "metadata": {},
   "outputs": [
    {
     "name": "stdout",
     "output_type": "stream",
     "text": [
      "a\n",
      "s\n",
      "h\n",
      "j\n",
      "a\n",
      "a\n"
     ]
    }
   ],
   "source": [
    "s=\"ashjaa\"\n",
    "for i in s:\n",
    "    print(i)"
   ]
  },
  {
   "cell_type": "code",
   "execution_count": 5,
   "id": "31a9f767-5be6-4eef-9bd0-db4c80bd512e",
   "metadata": {},
   "outputs": [
    {
     "name": "stdout",
     "output_type": "stream",
     "text": [
      "empty list: []\n",
      "new list with elements: ['a', 's', 'h', 'j', 'a', 'a', ' ', 'k', 'h', 'a', 'n']\n"
     ]
    }
   ],
   "source": [
    "s=\"ashjaa khan\"\n",
    "l=[]\n",
    "print(\"empty list:\",l)\n",
    "for i in s:\n",
    "    l.append(i)\n",
    "print(\"new list with elements:\",l)"
   ]
  },
  {
   "cell_type": "markdown",
   "id": "2d9e4325-dbf8-4fe0-abc9-4724d9650a1b",
   "metadata": {},
   "source": [
    "implementing the same ex using list comprehension\n",
    "syntax-> [expression for item in iterable if condition] #right to left"
   ]
  },
  {
   "cell_type": "code",
   "execution_count": 6,
   "id": "705f898c-0ae7-4f1e-9519-f9a8d73d8bf4",
   "metadata": {},
   "outputs": [
    {
     "name": "stdout",
     "output_type": "stream",
     "text": [
      "['a', 's', 'h', 'j', 'a', 'a', ' ', 'k', 'h', 'a', 'n']\n"
     ]
    }
   ],
   "source": [
    "s= \"ashjaa khan\"\n",
    "ll= [i for i in s if s]\n",
    "print(ll)"
   ]
  },
  {
   "cell_type": "code",
   "execution_count": 9,
   "id": "d53c0593-0a8b-4c1e-8d2a-707ba8a4a1a4",
   "metadata": {},
   "outputs": [
    {
     "name": "stdout",
     "output_type": "stream",
     "text": [
      "list of squares: [1, 4, 9, 16, 25]\n"
     ]
    }
   ],
   "source": [
    "#create list containing squares of 1 to 5 number\n",
    "l=[]\n",
    "for i in range(1,6):\n",
    "    l.append(i*i)\n",
    "print(\"list of squares:\",l)"
   ]
  },
  {
   "cell_type": "code",
   "execution_count": 11,
   "id": "25319736-7019-4f26-8548-41d4778b659c",
   "metadata": {},
   "outputs": [
    {
     "name": "stdout",
     "output_type": "stream",
     "text": [
      "list of squares: [1, 4, 9, 16, 25]\n"
     ]
    }
   ],
   "source": [
    "sq_list=[i*i for i in range(1,6) if range(1,6)]\n",
    "print(\"list of squares:\",sq_list)"
   ]
  },
  {
   "cell_type": "code",
   "execution_count": 14,
   "id": "d88ca6b2-e30c-4e2a-b204-7a21f5a93b32",
   "metadata": {},
   "outputs": [
    {
     "name": "stdout",
     "output_type": "stream",
     "text": [
      "dictionary of squares: {1: 1, 2: 4, 3: 9, 4: 16, 5: 25}\n"
     ]
    }
   ],
   "source": [
    "sq_dict={i:i*i for i in range(1,6) if range(1,6)}\n",
    "print(\"dictionary of squares:\",sq_dict)"
   ]
  },
  {
   "cell_type": "code",
   "execution_count": null,
   "id": "b70b062f-d732-4339-a85c-646189b4ea8f",
   "metadata": {},
   "outputs": [],
   "source": []
  }
 ],
 "metadata": {
  "kernelspec": {
   "display_name": "Python 3 (ipykernel)",
   "language": "python",
   "name": "python3"
  },
  "language_info": {
   "codemirror_mode": {
    "name": "ipython",
    "version": 3
   },
   "file_extension": ".py",
   "mimetype": "text/x-python",
   "name": "python",
   "nbconvert_exporter": "python",
   "pygments_lexer": "ipython3",
   "version": "3.13.3"
  }
 },
 "nbformat": 4,
 "nbformat_minor": 5
}
