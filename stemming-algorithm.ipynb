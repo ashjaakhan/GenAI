{
 "cells": [
  {
   "cell_type": "code",
   "execution_count": 1,
   "id": "db2ec1a0-376b-4578-bc8a-90c603cade23",
   "metadata": {},
   "outputs": [],
   "source": [
    "import nltk"
   ]
  },
  {
   "cell_type": "code",
   "execution_count": 2,
   "id": "76fe1394-2d73-4bb3-88e8-46fac9048665",
   "metadata": {},
   "outputs": [
    {
     "name": "stderr",
     "output_type": "stream",
     "text": [
      "[nltk_data] Downloading package punkt to C:\\Users\\Mohd Ashjaa\n",
      "[nltk_data]     Khan\\AppData\\Roaming\\nltk_data...\n",
      "[nltk_data]   Package punkt is already up-to-date!\n"
     ]
    },
    {
     "data": {
      "text/plain": [
       "True"
      ]
     },
     "execution_count": 2,
     "metadata": {},
     "output_type": "execute_result"
    }
   ],
   "source": [
    "nltk.download(\"punkt\")"
   ]
  },
  {
   "cell_type": "code",
   "execution_count": 3,
   "id": "5f43c890-0b9a-4db4-b7fd-7f661ccf228a",
   "metadata": {},
   "outputs": [],
   "source": [
    "from nltk.stem import PorterStemmer,LancasterStemmer,SnowballStemmer"
   ]
  },
  {
   "cell_type": "code",
   "execution_count": 4,
   "id": "a878e892-3810-4af5-a07c-55ad201eec14",
   "metadata": {},
   "outputs": [],
   "source": [
    "corpus=\"\"\"The Children are playing in the ground and have played several games after which they are enjoying it happily\"\"\""
   ]
  },
  {
   "cell_type": "code",
   "execution_count": 5,
   "id": "93b23694-6662-4098-9949-c5ebfeabebbf",
   "metadata": {},
   "outputs": [
    {
     "name": "stdout",
     "output_type": "stream",
     "text": [
      "corpus: The Children are playing in the ground and have played several games after which they are enjoying it happily\n"
     ]
    }
   ],
   "source": [
    "print(\"corpus:\",corpus)"
   ]
  },
  {
   "cell_type": "code",
   "execution_count": 6,
   "id": "afd60082-498d-41b0-8e8a-abd6a00f9f7f",
   "metadata": {},
   "outputs": [
    {
     "name": "stdout",
     "output_type": "stream",
     "text": [
      "words: ['The', 'Children', 'are', 'playing', 'in', 'the', 'ground', 'and', 'have', 'played', 'several', 'games', 'after', 'which', 'they', 'are', 'enjoying', 'it', 'happily']\n"
     ]
    }
   ],
   "source": [
    "words =nltk.word_tokenize(corpus)\n",
    "print(\"words:\",words)"
   ]
  },
  {
   "cell_type": "markdown",
   "id": "38504aab-37f7-48a1-b005-8e0118d2d881",
   "metadata": {},
   "source": [
    "### apply PorterStemmer for stemming"
   ]
  },
  {
   "cell_type": "code",
   "execution_count": 7,
   "id": "10054fe7-58a4-4189-a471-165b61e9ca48",
   "metadata": {},
   "outputs": [],
   "source": [
    "ps=PorterStemmer()"
   ]
  },
  {
   "cell_type": "code",
   "execution_count": 8,
   "id": "7e55e8e7-a834-4eaa-9333-e330aa587e4c",
   "metadata": {},
   "outputs": [],
   "source": [
    "ps_stem_words=[ps.stem(word.lower()) for word in words]"
   ]
  },
  {
   "cell_type": "code",
   "execution_count": 15,
   "id": "72eeebb8-6344-442b-8b9b-e8d3c89c40f4",
   "metadata": {},
   "outputs": [
    {
     "name": "stdout",
     "output_type": "stream",
     "text": [
      "after stemming: ['the', 'children', 'are', 'play', 'in', 'the', 'ground', 'and', 'have', 'play', 'sever', 'game', 'after', 'which', 'they', 'are', 'enjoy', 'it', 'happili']\n"
     ]
    }
   ],
   "source": [
    "print(\"after stemming:\",ps_stem_words)"
   ]
  },
  {
   "cell_type": "markdown",
   "id": "7de7628d-4d37-4dd0-852e-0f414a3da76c",
   "metadata": {},
   "source": [
    "### apply SnowballStemmer for stemming(Porter improved 2.0 algo)"
   ]
  },
  {
   "cell_type": "code",
   "execution_count": 16,
   "id": "99fc2060-6c4c-4a2f-9bc6-f14f90d29479",
   "metadata": {},
   "outputs": [],
   "source": [
    "ss=SnowballStemmer(\"english\")"
   ]
  },
  {
   "cell_type": "code",
   "execution_count": 17,
   "id": "717fb241-121e-44b0-9944-7c1deb8e2bf0",
   "metadata": {},
   "outputs": [],
   "source": [
    "ss_stem_words=[ss.stem(word.lower()) for word in words]"
   ]
  },
  {
   "cell_type": "code",
   "execution_count": 18,
   "id": "f4d9e9d8-cd38-4f7b-900d-28a6efbd2f01",
   "metadata": {},
   "outputs": [
    {
     "name": "stdout",
     "output_type": "stream",
     "text": [
      "after stemming: ['the', 'children', 'are', 'play', 'in', 'the', 'ground', 'and', 'have', 'play', 'sever', 'game', 'after', 'which', 'they', 'are', 'enjoy', 'it', 'happili']\n"
     ]
    }
   ],
   "source": [
    "print(\"after stemming:\",ss_stem_words)"
   ]
  },
  {
   "cell_type": "markdown",
   "id": "49169abc-3f86-4876-8eed-c01f6960c640",
   "metadata": {},
   "source": [
    "### applying LancasterStemmer for stemming "
   ]
  },
  {
   "cell_type": "code",
   "execution_count": 19,
   "id": "05215159-9658-4f80-9d84-1ee7cbb80322",
   "metadata": {},
   "outputs": [],
   "source": [
    "ls=LancasterStemmer()"
   ]
  },
  {
   "cell_type": "code",
   "execution_count": 20,
   "id": "d23b178c-e88f-4ae2-a4d3-f909fb818611",
   "metadata": {},
   "outputs": [],
   "source": [
    "ls_stem_words=[ls.stem(word.lower()) for word in words]"
   ]
  },
  {
   "cell_type": "code",
   "execution_count": 21,
   "id": "e7b25d28-b53a-4ab3-a40d-a379ca0ef4f6",
   "metadata": {},
   "outputs": [
    {
     "name": "stdout",
     "output_type": "stream",
     "text": [
      "after stemming: ['the', 'childr', 'ar', 'play', 'in', 'the', 'ground', 'and', 'hav', 'play', 'sev', 'gam', 'aft', 'which', 'they', 'ar', 'enjoy', 'it', 'happy']\n"
     ]
    }
   ],
   "source": [
    "print(\"after stemming:\",ls_stem_words)"
   ]
  },
  {
   "cell_type": "markdown",
   "id": "88edd1d0-4cd8-44ba-a354-0c949aa21e3c",
   "metadata": {},
   "source": [
    "### comparision of all algorithms"
   ]
  },
  {
   "cell_type": "code",
   "execution_count": 23,
   "id": "fbe7bec8-cb18-4d7f-9930-99623ca6a94f",
   "metadata": {},
   "outputs": [
    {
     "name": "stdout",
     "output_type": "stream",
     "text": [
      "playing ======> porter stemmer =======> play\n",
      "playing ======> snowball stemmer =======> play\n",
      "playing ======> lancaster stemmer =======> play\n",
      "*************************************\n",
      "played ======> porter stemmer =======> play\n",
      "played ======> snowball stemmer =======> play\n",
      "played ======> lancaster stemmer =======> play\n",
      "*************************************\n",
      "children ======> porter stemmer =======> children\n",
      "children ======> snowball stemmer =======> children\n",
      "children ======> lancaster stemmer =======> childr\n",
      "*************************************\n",
      "games ======> porter stemmer =======> game\n",
      "games ======> snowball stemmer =======> game\n",
      "games ======> lancaster stemmer =======> gam\n",
      "*************************************\n",
      "having ======> porter stemmer =======> have\n",
      "having ======> snowball stemmer =======> have\n",
      "having ======> lancaster stemmer =======> hav\n",
      "*************************************\n",
      "happily ======> porter stemmer =======> happili\n",
      "happily ======> snowball stemmer =======> happili\n",
      "happily ======> lancaster stemmer =======> happy\n",
      "*************************************\n",
      "congratulations ======> porter stemmer =======> congratul\n",
      "congratulations ======> snowball stemmer =======> congratul\n",
      "congratulations ======> lancaster stemmer =======> congrat\n",
      "*************************************\n"
     ]
    }
   ],
   "source": [
    "my_selected_words=[\"playing\",\"played\",\"children\",\"games\",\"having\",\"happily\",\"congratulations\"]\n",
    "for my_words in my_selected_words:\n",
    "    print(my_words,\"======> porter stemmer =======>\",ps.stem(my_words))\n",
    "    print(my_words,\"======> snowball stemmer =======>\",ss.stem(my_words))\n",
    "    print(my_words,\"======> lancaster stemmer =======>\",ls.stem(my_words))\n",
    "    print(\"*************************************\")"
   ]
  },
  {
   "cell_type": "code",
   "execution_count": null,
   "id": "a1ce22f6-df7a-4ac1-bbc1-f890057e3271",
   "metadata": {},
   "outputs": [],
   "source": []
  }
 ],
 "metadata": {
  "kernelspec": {
   "display_name": "Python 3 (ipykernel)",
   "language": "python",
   "name": "python3"
  },
  "language_info": {
   "codemirror_mode": {
    "name": "ipython",
    "version": 3
   },
   "file_extension": ".py",
   "mimetype": "text/x-python",
   "name": "python",
   "nbconvert_exporter": "python",
   "pygments_lexer": "ipython3",
   "version": "3.13.3"
  }
 },
 "nbformat": 4,
 "nbformat_minor": 5
}
