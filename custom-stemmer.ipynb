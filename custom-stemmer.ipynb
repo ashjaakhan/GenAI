{
 "cells": [
  {
   "cell_type": "code",
   "execution_count": 25,
   "id": "9ab0f515-6757-45c1-84f7-553b07a68c85",
   "metadata": {},
   "outputs": [],
   "source": [
    "import re\n",
    "import nltk"
   ]
  },
  {
   "cell_type": "code",
   "execution_count": 40,
   "id": "a96567d9-6748-44ad-b018-ba356f92a713",
   "metadata": {},
   "outputs": [],
   "source": [
    "def custom_stemmer(word):\n",
    "    suffix_list = [\n",
    "    \"ing\", \"ed\", \"ly\", \"es\", \"s\", \"ment\", \"ness\", \"able\", \"ible\", \"al\",\n",
    "    \"ial\", \"y\", \"ity\", \"ty\", \"ic\", \"ous\", \"eous\", \"ious\", \"en\", \"er\",\n",
    "    \"or\", \"ist\", \"ism\", \"ate\", \"ify\", \"ise\", \"ize\", \"ful\", \"less\",\n",
    "    \"ship\", \"hood\", \"ward\", \"wise\", \"dom\", \"th\", \"acy\", \"ance\", \"ence\",\n",
    "    \"ant\", \"ent\", \"ary\", \"ory\", \"ive\", \"ative\", \"itive\", \"ure\", \"tion\",\n",
    "    \"sion\", \"cion\", \"ment\", \"age\", \"ette\", \"ling\", \"let\", \"some\", \"ish\",\n",
    "    \"like\", \"ette\", \"ess\",\"ulations\"\n",
    "    ];\n",
    "    for suffix in suffix_list:\n",
    "        if word.endswith(suffix):\n",
    "            return re.sub(f\"{suffix}$\",\"\",word)\n",
    "    return word\n"
   ]
  },
  {
   "cell_type": "code",
   "execution_count": 41,
   "id": "fcb75bf6-5506-4f39-b83f-e503ccd0f265",
   "metadata": {},
   "outputs": [],
   "source": [
    "words=nltk.word_tokenize(\"\"\"My name is ashjaa and I am an engineer. I like playing football, This makes me live happily.\"\"\")"
   ]
  },
  {
   "cell_type": "code",
   "execution_count": 42,
   "id": "0438d267-d321-4d84-b480-946a7e40e9d9",
   "metadata": {},
   "outputs": [
    {
     "name": "stdout",
     "output_type": "stream",
     "text": [
      "words from corpus: ['My', 'name', 'is', 'ashjaa', 'and', 'I', 'am', 'an', 'engineer', '.', 'I', 'like', 'playing', 'football', ',', 'This', 'makes', 'me', 'live', 'happily', '.']\n"
     ]
    }
   ],
   "source": [
    "print(\"words from corpus:\",word)"
   ]
  },
  {
   "cell_type": "code",
   "execution_count": 43,
   "id": "813fc5ac-2559-4786-acd5-ad2f5f0f34dd",
   "metadata": {},
   "outputs": [
    {
     "name": "stdout",
     "output_type": "stream",
     "text": [
      "['m', 'name', 'i', 'ashjaa', 'and', 'i', 'am', 'an', 'engine', '.', 'i', '', 'play', 'football', ',', 'thi', 'mak', 'me', 'l', 'happi', '.']\n"
     ]
    }
   ],
   "source": [
    "stem_words=[custom_stemmer(word.lower()) for word in words]\n",
    "print(stem_words)"
   ]
  },
  {
   "cell_type": "code",
   "execution_count": 44,
   "id": "1eaf1cdb-fbd5-4082-939f-f8e332fb4112",
   "metadata": {},
   "outputs": [
    {
     "name": "stdin",
     "output_type": "stream",
     "text": [
      "enter word: congratulation\n"
     ]
    },
    {
     "name": "stdout",
     "output_type": "stream",
     "text": [
      "result: congratula\n"
     ]
    }
   ],
   "source": [
    "input_word=input(\"enter word:\")\n",
    "result=custom_stemmer(input_word)\n",
    "print(\"result:\",result)"
   ]
  },
  {
   "cell_type": "code",
   "execution_count": null,
   "id": "f49e4051-2ca0-4067-be22-eec7fdd3a113",
   "metadata": {},
   "outputs": [],
   "source": []
  }
 ],
 "metadata": {
  "kernelspec": {
   "display_name": "Python 3 (ipykernel)",
   "language": "python",
   "name": "python3"
  },
  "language_info": {
   "codemirror_mode": {
    "name": "ipython",
    "version": 3
   },
   "file_extension": ".py",
   "mimetype": "text/x-python",
   "name": "python",
   "nbconvert_exporter": "python",
   "pygments_lexer": "ipython3",
   "version": "3.13.3"
  }
 },
 "nbformat": 4,
 "nbformat_minor": 5
}
