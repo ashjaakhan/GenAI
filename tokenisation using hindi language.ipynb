{
 "cells": [
  {
   "cell_type": "markdown",
   "id": "d4cd9139-4f3a-48fb-9ae3-b5f5f8e503e0",
   "metadata": {},
   "source": [
    "### in order to perform tokenisation in hindi"
   ]
  },
  {
   "cell_type": "code",
   "execution_count": 2,
   "id": "9607b850-6218-4dbf-bce1-144bb06b90eb",
   "metadata": {},
   "outputs": [],
   "source": [
    "import nltk"
   ]
  },
  {
   "cell_type": "code",
   "execution_count": 3,
   "id": "f5276d86-9a3a-4d6c-90ae-40100c1c016a",
   "metadata": {},
   "outputs": [
    {
     "name": "stderr",
     "output_type": "stream",
     "text": [
      "[nltk_data] Downloading package punkt to C:\\Users\\Mohd Ashjaa\n",
      "[nltk_data]     Khan\\AppData\\Roaming\\nltk_data...\n",
      "[nltk_data]   Package punkt is already up-to-date!\n"
     ]
    },
    {
     "data": {
      "text/plain": [
       "True"
      ]
     },
     "execution_count": 3,
     "metadata": {},
     "output_type": "execute_result"
    }
   ],
   "source": [
    "nltk.download(\"punkt\")"
   ]
  },
  {
   "cell_type": "code",
   "execution_count": 4,
   "id": "a5cd0623-a81e-4cf4-a26c-0c5af2b09e00",
   "metadata": {},
   "outputs": [
    {
     "name": "stdout",
     "output_type": "stream",
     "text": [
      "corpus: मेरा नाम आशजा है और मुझे फुटबॉल खेलना पसंद है। और मैं इसका आनंद लेती हूँ।\n"
     ]
    }
   ],
   "source": [
    "corpus=\"\"\"मेरा नाम आशजा है और मुझे फुटबॉल खेलना पसंद है। और मैं इसका आनंद लेती हूँ।\"\"\"\n",
    "print(\"corpus:\",corpus)"
   ]
  },
  {
   "cell_type": "code",
   "execution_count": 7,
   "id": "5db85e67-c659-4c9d-b233-3b081a10019f",
   "metadata": {},
   "outputs": [
    {
     "data": {
      "text/plain": [
       "['मेरा',\n",
       " 'नाम',\n",
       " 'आशजा',\n",
       " 'है',\n",
       " 'और',\n",
       " 'मुझे',\n",
       " 'फुटबॉल',\n",
       " 'खेलना',\n",
       " 'पसंद',\n",
       " 'है।',\n",
       " 'और',\n",
       " 'मैं',\n",
       " 'इसका',\n",
       " 'आनंद',\n",
       " 'लेती',\n",
       " 'हूँ।']"
      ]
     },
     "execution_count": 7,
     "metadata": {},
     "output_type": "execute_result"
    }
   ],
   "source": [
    "nltk.word_tokenize(corpus) #corpus->words"
   ]
  },
  {
   "cell_type": "code",
   "execution_count": 9,
   "id": "a2e9af70-43b6-4578-a769-6e70617f7055",
   "metadata": {},
   "outputs": [
    {
     "data": {
      "text/plain": [
       "['मेरा नाम आशजा है और मुझे फुटबॉल खेलना पसंद है। और मैं इसका आनंद लेती हूँ।']"
      ]
     },
     "execution_count": 9,
     "metadata": {},
     "output_type": "execute_result"
    }
   ],
   "source": [
    "nltk.sent_tokenize(corpus) #corpus->sentence"
   ]
  },
  {
   "cell_type": "markdown",
   "id": "8efd44b2-aa75-42ee-b974-d5f4b2136649",
   "metadata": {},
   "source": [
    "## using indic-nlp-library"
   ]
  },
  {
   "cell_type": "code",
   "execution_count": 15,
   "id": "d8f768b5-f2e8-4078-bf3b-04ea93e3fabd",
   "metadata": {},
   "outputs": [],
   "source": [
    "from indicnlp.tokenize import indic_tokenize\n",
    "words=indic_tokenize.trivial_tokenize(corpus,lang=\"hi\")"
   ]
  },
  {
   "cell_type": "code",
   "execution_count": 16,
   "id": "c18b488d-ce8c-416b-ae65-423020c783e5",
   "metadata": {},
   "outputs": [
    {
     "name": "stdout",
     "output_type": "stream",
     "text": [
      "tokenized words: ['मेरा', 'नाम', 'आशजा', 'है', 'और', 'मुझे', 'फुटबॉल', 'खेलना', 'पसंद', 'है', '।', 'और', 'मैं', 'इसका', 'आनंद', 'लेती', 'हूँ', '।']\n"
     ]
    }
   ],
   "source": [
    "print(\"tokenized words:\",words)"
   ]
  },
  {
   "cell_type": "code",
   "execution_count": 17,
   "id": "19b36c37-a415-4037-9c17-ae5f4de1c877",
   "metadata": {},
   "outputs": [
    {
     "name": "stdout",
     "output_type": "stream",
     "text": [
      "['मेरा नाम आशजा है और मुझे फुटबॉल खेलना पसंद है।', 'और मैं इसका आनंद लेती हूँ।']\n"
     ]
    }
   ],
   "source": [
    "from indicnlp.tokenize.sentence_tokenize import sentence_split\n",
    "sentences=sentence_split(corpus,lang=\"hi\")\n",
    "print(sentences)"
   ]
  },
  {
   "cell_type": "code",
   "execution_count": 19,
   "id": "d5436ee4-cf0d-44ee-9239-16650780e13f",
   "metadata": {},
   "outputs": [
    {
     "name": "stdout",
     "output_type": "stream",
     "text": [
      "['मेरा', 'नाम', 'आशजा', 'है', 'और', 'मुझे', 'फुटबॉल', 'खेलना', 'पसंद', 'है', '।', 'और', 'मैं', 'इसका', 'आनंद', 'लेती', 'हूँ', '।']\n"
     ]
    }
   ],
   "source": [
    "lower=[word.lower() for word in words]\n",
    "print(lower)"
   ]
  },
  {
   "cell_type": "code",
   "execution_count": 21,
   "id": "e33b2910-d5f1-408a-a7ff-9bff19e07500",
   "metadata": {},
   "outputs": [
    {
     "name": "stdout",
     "output_type": "stream",
     "text": [
      "length: 18\n"
     ]
    }
   ],
   "source": [
    "print(\"length:\",len(lower))"
   ]
  },
  {
   "cell_type": "code",
   "execution_count": 20,
   "id": "f9416d3f-d979-43bf-b644-fa108cc29906",
   "metadata": {},
   "outputs": [
    {
     "name": "stdout",
     "output_type": "stream",
     "text": [
      "vocavs: {'।', 'है', 'लेती', 'पसंद', 'आनंद', 'मेरा', 'नाम', 'आशजा', 'और', 'मैं', 'हूँ', 'इसका', 'मुझे', 'खेलना', 'फुटबॉल'}\n"
     ]
    }
   ],
   "source": [
    "vocabs=set(lower)\n",
    "print(\"vocavs:\",vocabs)"
   ]
  },
  {
   "cell_type": "code",
   "execution_count": 22,
   "id": "d2eb7d6c-2886-433b-b1c3-13e629531a9a",
   "metadata": {},
   "outputs": [
    {
     "name": "stdout",
     "output_type": "stream",
     "text": [
      "length: 15\n"
     ]
    }
   ],
   "source": [
    "print(\"length:\",len(vocabs))"
   ]
  },
  {
   "cell_type": "code",
   "execution_count": null,
   "id": "940e038c-3011-4ca0-9879-b5c1f7c321dc",
   "metadata": {},
   "outputs": [],
   "source": []
  }
 ],
 "metadata": {
  "kernelspec": {
   "display_name": "Python 3 (ipykernel)",
   "language": "python",
   "name": "python3"
  },
  "language_info": {
   "codemirror_mode": {
    "name": "ipython",
    "version": 3
   },
   "file_extension": ".py",
   "mimetype": "text/x-python",
   "name": "python",
   "nbconvert_exporter": "python",
   "pygments_lexer": "ipython3",
   "version": "3.13.3"
  }
 },
 "nbformat": 4,
 "nbformat_minor": 5
}
